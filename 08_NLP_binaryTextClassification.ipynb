{
  "nbformat": 4,
  "nbformat_minor": 0,
  "metadata": {
    "colab": {
      "name": "08_NLP_binaryTextClassification.ipynb",
      "provenance": [],
      "collapsed_sections": []
    },
    "kernelspec": {
      "name": "python3",
      "display_name": "Python 3"
    }
  },
  "cells": [
    {
      "cell_type": "markdown",
      "metadata": {
        "id": "view-in-github"
      },
      "source": [
        "<a href=\"https://colab.research.google.com/github/nurimammasri/Dicoding-Belajar-Pengembangan-Machine-Learning/blob/main/08_NLP_binaryTextClassification.ipynb\" target=\"_parent\"><img src=\"https://colab.research.google.com/assets/colab-badge.svg\" alt=\"Open In Colab\"/></a>"
      ]
    },
    {
      "cell_type": "code",
      "metadata": {
        "id": "S8VgWmb-optz"
      },
      "source": [
        "# from google.colab import files\n",
        "# uploaded = files.upload()"
      ],
      "execution_count": 1,
      "outputs": []
    },
    {
      "cell_type": "code",
      "metadata": {
        "colab": {
          "base_uri": "https://localhost:8080/"
        },
        "id": "2ces7eNCPbLg",
        "outputId": "1e1e7c21-88d6-4126-bd79-b903c1231b4f"
      },
      "source": [
        "# yelp_labelled.txt\n",
        "!wget --no-check-certificate \\\n",
        "    https://raw.githubusercontent.com/nurimammasri/Dicoding-Belajar-Pengembangan-Machine-Learning/main/data/yelp_labelled.txt \\\n",
        "    -O /content/yelp_labelled.txt"
      ],
      "execution_count": 2,
      "outputs": [
        {
          "output_type": "stream",
          "name": "stdout",
          "text": [
            "--2021-09-17 05:32:42--  https://raw.githubusercontent.com/nurimammasri/Dicoding-Belajar-Pengembangan-Machine-Learning/main/data/yelp_labelled.txt\n",
            "Resolving raw.githubusercontent.com (raw.githubusercontent.com)... 185.199.108.133, 185.199.110.133, 185.199.109.133, ...\n",
            "Connecting to raw.githubusercontent.com (raw.githubusercontent.com)|185.199.108.133|:443... connected.\n",
            "HTTP request sent, awaiting response... 200 OK\n",
            "Length: 61327 (60K) [text/plain]\n",
            "Saving to: ‘/content/yelp_labelled.txt’\n",
            "\n",
            "/content/yelp_label 100%[===================>]  59.89K  --.-KB/s    in 0.01s   \n",
            "\n",
            "2021-09-17 05:32:42 (4.35 MB/s) - ‘/content/yelp_labelled.txt’ saved [61327/61327]\n",
            "\n"
          ]
        }
      ]
    },
    {
      "cell_type": "code",
      "metadata": {
        "id": "mNTShv_2qMGq"
      },
      "source": [
        "import pandas as pd\n",
        "df = pd.read_csv('yelp_labelled.txt', names = ['sentence', 'label'], sep = '\\t')"
      ],
      "execution_count": 3,
      "outputs": []
    },
    {
      "cell_type": "code",
      "metadata": {
        "id": "0xkuQuBWrDhJ",
        "colab": {
          "base_uri": "https://localhost:8080/",
          "height": 203
        },
        "outputId": "5d320228-1bca-422b-eab5-6e0bc388a994"
      },
      "source": [
        "df.head()\n",
        "# dataset positive berlabel 1"
      ],
      "execution_count": 4,
      "outputs": [
        {
          "output_type": "execute_result",
          "data": {
            "text/html": [
              "<div>\n",
              "<style scoped>\n",
              "    .dataframe tbody tr th:only-of-type {\n",
              "        vertical-align: middle;\n",
              "    }\n",
              "\n",
              "    .dataframe tbody tr th {\n",
              "        vertical-align: top;\n",
              "    }\n",
              "\n",
              "    .dataframe thead th {\n",
              "        text-align: right;\n",
              "    }\n",
              "</style>\n",
              "<table border=\"1\" class=\"dataframe\">\n",
              "  <thead>\n",
              "    <tr style=\"text-align: right;\">\n",
              "      <th></th>\n",
              "      <th>sentence</th>\n",
              "      <th>label</th>\n",
              "    </tr>\n",
              "  </thead>\n",
              "  <tbody>\n",
              "    <tr>\n",
              "      <th>0</th>\n",
              "      <td>Wow... Loved this place.</td>\n",
              "      <td>1</td>\n",
              "    </tr>\n",
              "    <tr>\n",
              "      <th>1</th>\n",
              "      <td>Crust is not good.</td>\n",
              "      <td>0</td>\n",
              "    </tr>\n",
              "    <tr>\n",
              "      <th>2</th>\n",
              "      <td>Not tasty and the texture was just nasty.</td>\n",
              "      <td>0</td>\n",
              "    </tr>\n",
              "    <tr>\n",
              "      <th>3</th>\n",
              "      <td>Stopped by during the late May bank holiday of...</td>\n",
              "      <td>1</td>\n",
              "    </tr>\n",
              "    <tr>\n",
              "      <th>4</th>\n",
              "      <td>The selection on the menu was great and so wer...</td>\n",
              "      <td>1</td>\n",
              "    </tr>\n",
              "  </tbody>\n",
              "</table>\n",
              "</div>"
            ],
            "text/plain": [
              "                                            sentence  label\n",
              "0                           Wow... Loved this place.      1\n",
              "1                                 Crust is not good.      0\n",
              "2          Not tasty and the texture was just nasty.      0\n",
              "3  Stopped by during the late May bank holiday of...      1\n",
              "4  The selection on the menu was great and so wer...      1"
            ]
          },
          "metadata": {},
          "execution_count": 4
        }
      ]
    },
    {
      "cell_type": "code",
      "metadata": {
        "id": "RnQTDn2mqbKJ",
        "colab": {
          "base_uri": "https://localhost:8080/",
          "height": 203
        },
        "outputId": "17ec4123-9214-4778-839d-6a04a5c48666"
      },
      "source": [
        "df.tail()\n",
        "# dataset negative berlabel 0"
      ],
      "execution_count": 5,
      "outputs": [
        {
          "output_type": "execute_result",
          "data": {
            "text/html": [
              "<div>\n",
              "<style scoped>\n",
              "    .dataframe tbody tr th:only-of-type {\n",
              "        vertical-align: middle;\n",
              "    }\n",
              "\n",
              "    .dataframe tbody tr th {\n",
              "        vertical-align: top;\n",
              "    }\n",
              "\n",
              "    .dataframe thead th {\n",
              "        text-align: right;\n",
              "    }\n",
              "</style>\n",
              "<table border=\"1\" class=\"dataframe\">\n",
              "  <thead>\n",
              "    <tr style=\"text-align: right;\">\n",
              "      <th></th>\n",
              "      <th>sentence</th>\n",
              "      <th>label</th>\n",
              "    </tr>\n",
              "  </thead>\n",
              "  <tbody>\n",
              "    <tr>\n",
              "      <th>995</th>\n",
              "      <td>I think food should have flavor and texture an...</td>\n",
              "      <td>0</td>\n",
              "    </tr>\n",
              "    <tr>\n",
              "      <th>996</th>\n",
              "      <td>Appetite instantly gone.</td>\n",
              "      <td>0</td>\n",
              "    </tr>\n",
              "    <tr>\n",
              "      <th>997</th>\n",
              "      <td>Overall I was not impressed and would not go b...</td>\n",
              "      <td>0</td>\n",
              "    </tr>\n",
              "    <tr>\n",
              "      <th>998</th>\n",
              "      <td>The whole experience was underwhelming, and I ...</td>\n",
              "      <td>0</td>\n",
              "    </tr>\n",
              "    <tr>\n",
              "      <th>999</th>\n",
              "      <td>Then, as if I hadn't wasted enough of my life ...</td>\n",
              "      <td>0</td>\n",
              "    </tr>\n",
              "  </tbody>\n",
              "</table>\n",
              "</div>"
            ],
            "text/plain": [
              "                                              sentence  label\n",
              "995  I think food should have flavor and texture an...      0\n",
              "996                           Appetite instantly gone.      0\n",
              "997  Overall I was not impressed and would not go b...      0\n",
              "998  The whole experience was underwhelming, and I ...      0\n",
              "999  Then, as if I hadn't wasted enough of my life ...      0"
            ]
          },
          "metadata": {},
          "execution_count": 5
        }
      ]
    },
    {
      "cell_type": "markdown",
      "metadata": {
        "id": "W3GbATXtqfnp"
      },
      "source": [
        "Pembagian dataset menjadi train dan test set"
      ]
    },
    {
      "cell_type": "code",
      "metadata": {
        "id": "Ug2mah-TqcuJ"
      },
      "source": [
        "from sklearn.model_selection import train_test_split\n",
        "kalimat = df['sentence'].values\n",
        "y = df['label'].values\n",
        "kalimat_latih, kalimat_test, y_latih, y_test = train_test_split(kalimat, y, test_size = 0.2)"
      ],
      "execution_count": 6,
      "outputs": []
    },
    {
      "cell_type": "markdown",
      "metadata": {
        "id": "-nP7ghzcrQpK"
      },
      "source": [
        "Tokenisasi"
      ]
    },
    {
      "cell_type": "code",
      "metadata": {
        "id": "Clx3lzNZrPpC"
      },
      "source": [
        "from tensorflow.keras.preprocessing.text import Tokenizer\n",
        "from tensorflow.keras.preprocessing.sequence import pad_sequences\n",
        "\n",
        "tokenizer = Tokenizer(num_words = 250, oov_token = 'x')\n",
        "tokenizer.fit_on_texts(kalimat_latih)\n",
        "tokenizer.fit_on_texts(kalimat_test)\n",
        "\n",
        "sekuens_latih = tokenizer.texts_to_sequences(kalimat_latih)\n",
        "sekuens_test = tokenizer.texts_to_sequences(kalimat_test)\n",
        "\n",
        "padded_latih = pad_sequences(sekuens_latih)\n",
        "padded_test = pad_sequences(sekuens_test)"
      ],
      "execution_count": 7,
      "outputs": []
    },
    {
      "cell_type": "markdown",
      "metadata": {
        "id": "L72eXgjEr3bt"
      },
      "source": [
        "Model menggunakan arsitektur Layer Embedding. Tidak menggunakan layer Flatten(), tetapi menggunakan GlobalAveragePooling1D. Karena bekerja lebih baik dibandingkan dengan Flatten()."
      ]
    },
    {
      "cell_type": "code",
      "metadata": {
        "id": "33nETre0q_tt"
      },
      "source": [
        "import tensorflow as tf\n",
        "model = tf.keras.Sequential([\n",
        "    tf.keras.layers.Embedding(250, 16, input_length = 20),\n",
        "    tf.keras.layers.GlobalAveragePooling1D(),\n",
        "    tf.keras.layers.Dense(24, activation = 'relu'),\n",
        "    tf.keras.layers.Dense(1, activation = 'sigmoid')\n",
        "])\n",
        "model.compile(loss = 'binary_crossentropy', optimizer = 'adam', metrics = ['accuracy'])"
      ],
      "execution_count": 8,
      "outputs": []
    },
    {
      "cell_type": "code",
      "metadata": {
        "id": "drYfDoeIspjV",
        "colab": {
          "base_uri": "https://localhost:8080/"
        },
        "outputId": "d51bd979-e92c-4ae8-96e9-75a5d5fb2917"
      },
      "source": [
        "num_epochs = 30\n",
        "history = model.fit(padded_latih, y_latih, epochs = num_epochs, validation_data=(padded_test, y_test), verbose=2)"
      ],
      "execution_count": 9,
      "outputs": [
        {
          "output_type": "stream",
          "name": "stdout",
          "text": [
            "Epoch 1/30\n",
            "WARNING:tensorflow:Model was constructed with shape (None, 20) for input KerasTensor(type_spec=TensorSpec(shape=(None, 20), dtype=tf.float32, name='embedding_input'), name='embedding_input', description=\"created by layer 'embedding_input'\"), but it was called on an input with incompatible shape (32, 32).\n",
            "WARNING:tensorflow:Model was constructed with shape (None, 20) for input KerasTensor(type_spec=TensorSpec(shape=(None, 20), dtype=tf.float32, name='embedding_input'), name='embedding_input', description=\"created by layer 'embedding_input'\"), but it was called on an input with incompatible shape (32, 32).\n",
            "WARNING:tensorflow:Model was constructed with shape (None, 20) for input KerasTensor(type_spec=TensorSpec(shape=(None, 20), dtype=tf.float32, name='embedding_input'), name='embedding_input', description=\"created by layer 'embedding_input'\"), but it was called on an input with incompatible shape (None, 29).\n",
            "25/25 - 1s - loss: 0.6932 - accuracy: 0.4875 - val_loss: 0.6920 - val_accuracy: 0.5050\n",
            "Epoch 2/30\n",
            "25/25 - 0s - loss: 0.6918 - accuracy: 0.5275 - val_loss: 0.6906 - val_accuracy: 0.5600\n",
            "Epoch 3/30\n",
            "25/25 - 0s - loss: 0.6895 - accuracy: 0.5838 - val_loss: 0.6889 - val_accuracy: 0.6100\n",
            "Epoch 4/30\n",
            "25/25 - 0s - loss: 0.6865 - accuracy: 0.6500 - val_loss: 0.6855 - val_accuracy: 0.6100\n",
            "Epoch 5/30\n",
            "25/25 - 0s - loss: 0.6815 - accuracy: 0.6400 - val_loss: 0.6810 - val_accuracy: 0.6450\n",
            "Epoch 6/30\n",
            "25/25 - 0s - loss: 0.6735 - accuracy: 0.6787 - val_loss: 0.6736 - val_accuracy: 0.6600\n",
            "Epoch 7/30\n",
            "25/25 - 0s - loss: 0.6622 - accuracy: 0.6963 - val_loss: 0.6623 - val_accuracy: 0.6450\n",
            "Epoch 8/30\n",
            "25/25 - 0s - loss: 0.6454 - accuracy: 0.7138 - val_loss: 0.6485 - val_accuracy: 0.6850\n",
            "Epoch 9/30\n",
            "25/25 - 0s - loss: 0.6236 - accuracy: 0.7300 - val_loss: 0.6320 - val_accuracy: 0.6900\n",
            "Epoch 10/30\n",
            "25/25 - 0s - loss: 0.5981 - accuracy: 0.7462 - val_loss: 0.6122 - val_accuracy: 0.6800\n",
            "Epoch 11/30\n",
            "25/25 - 0s - loss: 0.5707 - accuracy: 0.7825 - val_loss: 0.5932 - val_accuracy: 0.6900\n",
            "Epoch 12/30\n",
            "25/25 - 0s - loss: 0.5428 - accuracy: 0.7875 - val_loss: 0.5751 - val_accuracy: 0.7000\n",
            "Epoch 13/30\n",
            "25/25 - 0s - loss: 0.5129 - accuracy: 0.7975 - val_loss: 0.5627 - val_accuracy: 0.7100\n",
            "Epoch 14/30\n",
            "25/25 - 0s - loss: 0.4861 - accuracy: 0.8112 - val_loss: 0.5442 - val_accuracy: 0.7200\n",
            "Epoch 15/30\n",
            "25/25 - 0s - loss: 0.4616 - accuracy: 0.8200 - val_loss: 0.5323 - val_accuracy: 0.7100\n",
            "Epoch 16/30\n",
            "25/25 - 0s - loss: 0.4373 - accuracy: 0.8375 - val_loss: 0.5238 - val_accuracy: 0.7150\n",
            "Epoch 17/30\n",
            "25/25 - 0s - loss: 0.4146 - accuracy: 0.8462 - val_loss: 0.5127 - val_accuracy: 0.7000\n",
            "Epoch 18/30\n",
            "25/25 - 0s - loss: 0.3962 - accuracy: 0.8487 - val_loss: 0.5079 - val_accuracy: 0.7100\n",
            "Epoch 19/30\n",
            "25/25 - 0s - loss: 0.3812 - accuracy: 0.8525 - val_loss: 0.5019 - val_accuracy: 0.7150\n",
            "Epoch 20/30\n",
            "25/25 - 0s - loss: 0.3648 - accuracy: 0.8587 - val_loss: 0.5020 - val_accuracy: 0.7250\n",
            "Epoch 21/30\n",
            "25/25 - 0s - loss: 0.3516 - accuracy: 0.8650 - val_loss: 0.4982 - val_accuracy: 0.7350\n",
            "Epoch 22/30\n",
            "25/25 - 0s - loss: 0.3403 - accuracy: 0.8675 - val_loss: 0.4929 - val_accuracy: 0.7250\n",
            "Epoch 23/30\n",
            "25/25 - 0s - loss: 0.3271 - accuracy: 0.8737 - val_loss: 0.4954 - val_accuracy: 0.7250\n",
            "Epoch 24/30\n",
            "25/25 - 0s - loss: 0.3276 - accuracy: 0.8637 - val_loss: 0.5032 - val_accuracy: 0.7400\n",
            "Epoch 25/30\n",
            "25/25 - 0s - loss: 0.3186 - accuracy: 0.8712 - val_loss: 0.4976 - val_accuracy: 0.7550\n",
            "Epoch 26/30\n",
            "25/25 - 0s - loss: 0.3060 - accuracy: 0.8888 - val_loss: 0.5059 - val_accuracy: 0.7600\n",
            "Epoch 27/30\n",
            "25/25 - 0s - loss: 0.2958 - accuracy: 0.8913 - val_loss: 0.4984 - val_accuracy: 0.7400\n",
            "Epoch 28/30\n",
            "25/25 - 0s - loss: 0.2915 - accuracy: 0.8850 - val_loss: 0.5014 - val_accuracy: 0.7500\n",
            "Epoch 29/30\n",
            "25/25 - 0s - loss: 0.2856 - accuracy: 0.8900 - val_loss: 0.5049 - val_accuracy: 0.7600\n",
            "Epoch 30/30\n",
            "25/25 - 0s - loss: 0.2790 - accuracy: 0.8938 - val_loss: 0.5118 - val_accuracy: 0.7550\n"
          ]
        }
      ]
    },
    {
      "cell_type": "code",
      "metadata": {
        "id": "InOeprS8Pk_j"
      },
      "source": [
        ""
      ],
      "execution_count": null,
      "outputs": []
    }
  ]
}