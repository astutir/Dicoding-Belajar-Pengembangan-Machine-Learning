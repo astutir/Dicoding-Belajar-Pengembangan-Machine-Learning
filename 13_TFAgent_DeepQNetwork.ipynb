{
  "nbformat": 4,
  "nbformat_minor": 0,
  "metadata": {
    "colab": {
      "name": "13_TFAgent_DeepQNetwork.ipynb",
      "provenance": [],
      "collapsed_sections": []
    },
    "kernelspec": {
      "name": "python3",
      "display_name": "Python 3"
    }
  },
  "cells": [
    {
      "cell_type": "markdown",
      "metadata": {
        "id": "view-in-github"
      },
      "source": [
        "<a href=\"https://colab.research.google.com/github/nurimammasri/Dicoding-Belajar-Pengembangan-Machine-Learning/blob/main/13_TFAgent_DeepQNetwork.ipynb\" target=\"_parent\"><img src=\"https://colab.research.google.com/assets/colab-badge.svg\" alt=\"Open In Colab\"/></a>"
      ]
    },
    {
      "cell_type": "code",
      "metadata": {
        "id": "Wzxpul5PSiYe",
        "colab": {
          "base_uri": "https://localhost:8080/",
          "height": 627
        },
        "outputId": "f6a47449-326b-4580-b43f-888bd9d47b74"
      },
      "source": [
        "!pip install tf-agents\n",
        "\n",
        "import tensorflow as tf\n",
        "from tf_agents.networks import q_network\n",
        "from tf_agents.agents.dqn import dqn_agent\n",
        "\n",
        "q_net = q_network.QNetwork(\n",
        "    train_env.observation_spec(),\n",
        "    train_env.action_spec(),\n",
        "    fd_layer_param = (100,)\n",
        ")\n",
        "\n",
        "agent = dqn_agent.DqnAgent(\n",
        "    train_env.time_step_spec(),\n",
        "    train_env.action_spec(),\n",
        "    q_network = q_net,\n",
        "    optimizer = optimizer,\n",
        "    td_errors_loss_fn = common.element_wise_squared_loss,\n",
        "    train_step_counter = tf.Variable(0)\n",
        ")\n",
        "\n",
        "agent.initialize()"
      ],
      "execution_count": null,
      "outputs": [
        {
          "output_type": "stream",
          "name": "stdout",
          "text": [
            "Collecting tf-agents\n",
            "  Downloading tf_agents-0.9.0-py3-none-any.whl (1.3 MB)\n",
            "\u001b[?25l\r\u001b[K     |▎                               | 10 kB 23.9 MB/s eta 0:00:01\r\u001b[K     |▌                               | 20 kB 14.0 MB/s eta 0:00:01\r\u001b[K     |▉                               | 30 kB 10.2 MB/s eta 0:00:01\r\u001b[K     |█                               | 40 kB 9.3 MB/s eta 0:00:01\r\u001b[K     |█▎                              | 51 kB 5.3 MB/s eta 0:00:01\r\u001b[K     |█▋                              | 61 kB 5.2 MB/s eta 0:00:01\r\u001b[K     |█▉                              | 71 kB 5.2 MB/s eta 0:00:01\r\u001b[K     |██                              | 81 kB 5.9 MB/s eta 0:00:01\r\u001b[K     |██▍                             | 92 kB 4.7 MB/s eta 0:00:01\r\u001b[K     |██▋                             | 102 kB 5.1 MB/s eta 0:00:01\r\u001b[K     |██▉                             | 112 kB 5.1 MB/s eta 0:00:01\r\u001b[K     |███▏                            | 122 kB 5.1 MB/s eta 0:00:01\r\u001b[K     |███▍                            | 133 kB 5.1 MB/s eta 0:00:01\r\u001b[K     |███▋                            | 143 kB 5.1 MB/s eta 0:00:01\r\u001b[K     |████                            | 153 kB 5.1 MB/s eta 0:00:01\r\u001b[K     |████▏                           | 163 kB 5.1 MB/s eta 0:00:01\r\u001b[K     |████▍                           | 174 kB 5.1 MB/s eta 0:00:01\r\u001b[K     |████▊                           | 184 kB 5.1 MB/s eta 0:00:01\r\u001b[K     |█████                           | 194 kB 5.1 MB/s eta 0:00:01\r\u001b[K     |█████▏                          | 204 kB 5.1 MB/s eta 0:00:01\r\u001b[K     |█████▌                          | 215 kB 5.1 MB/s eta 0:00:01\r\u001b[K     |█████▊                          | 225 kB 5.1 MB/s eta 0:00:01\r\u001b[K     |██████                          | 235 kB 5.1 MB/s eta 0:00:01\r\u001b[K     |██████▎                         | 245 kB 5.1 MB/s eta 0:00:01\r\u001b[K     |██████▌                         | 256 kB 5.1 MB/s eta 0:00:01\r\u001b[K     |██████▊                         | 266 kB 5.1 MB/s eta 0:00:01\r\u001b[K     |███████                         | 276 kB 5.1 MB/s eta 0:00:01\r\u001b[K     |███████▎                        | 286 kB 5.1 MB/s eta 0:00:01\r\u001b[K     |███████▌                        | 296 kB 5.1 MB/s eta 0:00:01\r\u001b[K     |███████▉                        | 307 kB 5.1 MB/s eta 0:00:01\r\u001b[K     |████████                        | 317 kB 5.1 MB/s eta 0:00:01\r\u001b[K     |████████▎                       | 327 kB 5.1 MB/s eta 0:00:01\r\u001b[K     |████████▋                       | 337 kB 5.1 MB/s eta 0:00:01\r\u001b[K     |████████▉                       | 348 kB 5.1 MB/s eta 0:00:01\r\u001b[K     |█████████                       | 358 kB 5.1 MB/s eta 0:00:01\r\u001b[K     |█████████▍                      | 368 kB 5.1 MB/s eta 0:00:01\r\u001b[K     |█████████▋                      | 378 kB 5.1 MB/s eta 0:00:01\r\u001b[K     |█████████▉                      | 389 kB 5.1 MB/s eta 0:00:01\r\u001b[K     |██████████▏                     | 399 kB 5.1 MB/s eta 0:00:01\r\u001b[K     |██████████▍                     | 409 kB 5.1 MB/s eta 0:00:01\r\u001b[K     |██████████▋                     | 419 kB 5.1 MB/s eta 0:00:01\r\u001b[K     |███████████                     | 430 kB 5.1 MB/s eta 0:00:01\r\u001b[K     |███████████▏                    | 440 kB 5.1 MB/s eta 0:00:01\r\u001b[K     |███████████▍                    | 450 kB 5.1 MB/s eta 0:00:01\r\u001b[K     |███████████▊                    | 460 kB 5.1 MB/s eta 0:00:01\r\u001b[K     |████████████                    | 471 kB 5.1 MB/s eta 0:00:01\r\u001b[K     |████████████▏                   | 481 kB 5.1 MB/s eta 0:00:01\r\u001b[K     |████████████▌                   | 491 kB 5.1 MB/s eta 0:00:01\r\u001b[K     |████████████▊                   | 501 kB 5.1 MB/s eta 0:00:01\r\u001b[K     |█████████████                   | 512 kB 5.1 MB/s eta 0:00:01\r\u001b[K     |█████████████▎                  | 522 kB 5.1 MB/s eta 0:00:01\r\u001b[K     |█████████████▌                  | 532 kB 5.1 MB/s eta 0:00:01\r\u001b[K     |█████████████▊                  | 542 kB 5.1 MB/s eta 0:00:01\r\u001b[K     |██████████████                  | 552 kB 5.1 MB/s eta 0:00:01\r\u001b[K     |██████████████▎                 | 563 kB 5.1 MB/s eta 0:00:01\r\u001b[K     |██████████████▌                 | 573 kB 5.1 MB/s eta 0:00:01\r\u001b[K     |██████████████▉                 | 583 kB 5.1 MB/s eta 0:00:01\r\u001b[K     |███████████████                 | 593 kB 5.1 MB/s eta 0:00:01\r\u001b[K     |███████████████▎                | 604 kB 5.1 MB/s eta 0:00:01\r\u001b[K     |███████████████▋                | 614 kB 5.1 MB/s eta 0:00:01\r\u001b[K     |███████████████▉                | 624 kB 5.1 MB/s eta 0:00:01\r\u001b[K     |████████████████                | 634 kB 5.1 MB/s eta 0:00:01\r\u001b[K     |████████████████▍               | 645 kB 5.1 MB/s eta 0:00:01\r\u001b[K     |████████████████▋               | 655 kB 5.1 MB/s eta 0:00:01\r\u001b[K     |████████████████▉               | 665 kB 5.1 MB/s eta 0:00:01\r\u001b[K     |█████████████████▏              | 675 kB 5.1 MB/s eta 0:00:01\r\u001b[K     |█████████████████▍              | 686 kB 5.1 MB/s eta 0:00:01\r\u001b[K     |█████████████████▋              | 696 kB 5.1 MB/s eta 0:00:01\r\u001b[K     |██████████████████              | 706 kB 5.1 MB/s eta 0:00:01\r\u001b[K     |██████████████████▏             | 716 kB 5.1 MB/s eta 0:00:01\r\u001b[K     |██████████████████▍             | 727 kB 5.1 MB/s eta 0:00:01\r\u001b[K     |██████████████████▊             | 737 kB 5.1 MB/s eta 0:00:01\r\u001b[K     |███████████████████             | 747 kB 5.1 MB/s eta 0:00:01\r\u001b[K     |███████████████████▏            | 757 kB 5.1 MB/s eta 0:00:01\r\u001b[K     |███████████████████▌            | 768 kB 5.1 MB/s eta 0:00:01\r\u001b[K     |███████████████████▊            | 778 kB 5.1 MB/s eta 0:00:01\r\u001b[K     |████████████████████            | 788 kB 5.1 MB/s eta 0:00:01\r\u001b[K     |████████████████████▎           | 798 kB 5.1 MB/s eta 0:00:01\r\u001b[K     |████████████████████▌           | 808 kB 5.1 MB/s eta 0:00:01\r\u001b[K     |████████████████████▊           | 819 kB 5.1 MB/s eta 0:00:01\r\u001b[K     |█████████████████████           | 829 kB 5.1 MB/s eta 0:00:01\r\u001b[K     |█████████████████████▎          | 839 kB 5.1 MB/s eta 0:00:01\r\u001b[K     |█████████████████████▌          | 849 kB 5.1 MB/s eta 0:00:01\r\u001b[K     |█████████████████████▉          | 860 kB 5.1 MB/s eta 0:00:01\r\u001b[K     |██████████████████████          | 870 kB 5.1 MB/s eta 0:00:01\r\u001b[K     |██████████████████████▎         | 880 kB 5.1 MB/s eta 0:00:01\r\u001b[K     |██████████████████████▋         | 890 kB 5.1 MB/s eta 0:00:01\r\u001b[K     |██████████████████████▉         | 901 kB 5.1 MB/s eta 0:00:01\r\u001b[K     |███████████████████████         | 911 kB 5.1 MB/s eta 0:00:01\r\u001b[K     |███████████████████████▍        | 921 kB 5.1 MB/s eta 0:00:01\r\u001b[K     |███████████████████████▋        | 931 kB 5.1 MB/s eta 0:00:01\r\u001b[K     |███████████████████████▉        | 942 kB 5.1 MB/s eta 0:00:01\r\u001b[K     |████████████████████████▏       | 952 kB 5.1 MB/s eta 0:00:01\r\u001b[K     |████████████████████████▍       | 962 kB 5.1 MB/s eta 0:00:01\r\u001b[K     |████████████████████████▋       | 972 kB 5.1 MB/s eta 0:00:01\r\u001b[K     |█████████████████████████       | 983 kB 5.1 MB/s eta 0:00:01\r\u001b[K     |█████████████████████████▏      | 993 kB 5.1 MB/s eta 0:00:01\r\u001b[K     |█████████████████████████▍      | 1.0 MB 5.1 MB/s eta 0:00:01\r\u001b[K     |█████████████████████████▊      | 1.0 MB 5.1 MB/s eta 0:00:01\r\u001b[K     |██████████████████████████      | 1.0 MB 5.1 MB/s eta 0:00:01\r\u001b[K     |██████████████████████████▏     | 1.0 MB 5.1 MB/s eta 0:00:01\r\u001b[K     |██████████████████████████▌     | 1.0 MB 5.1 MB/s eta 0:00:01\r\u001b[K     |██████████████████████████▊     | 1.1 MB 5.1 MB/s eta 0:00:01\r\u001b[K     |███████████████████████████     | 1.1 MB 5.1 MB/s eta 0:00:01\r\u001b[K     |███████████████████████████▎    | 1.1 MB 5.1 MB/s eta 0:00:01\r\u001b[K     |███████████████████████████▌    | 1.1 MB 5.1 MB/s eta 0:00:01\r\u001b[K     |███████████████████████████▊    | 1.1 MB 5.1 MB/s eta 0:00:01\r\u001b[K     |████████████████████████████    | 1.1 MB 5.1 MB/s eta 0:00:01\r\u001b[K     |████████████████████████████▎   | 1.1 MB 5.1 MB/s eta 0:00:01\r\u001b[K     |████████████████████████████▌   | 1.1 MB 5.1 MB/s eta 0:00:01\r\u001b[K     |████████████████████████████▉   | 1.1 MB 5.1 MB/s eta 0:00:01\r\u001b[K     |█████████████████████████████   | 1.1 MB 5.1 MB/s eta 0:00:01\r\u001b[K     |█████████████████████████████▎  | 1.2 MB 5.1 MB/s eta 0:00:01\r\u001b[K     |█████████████████████████████▋  | 1.2 MB 5.1 MB/s eta 0:00:01\r\u001b[K     |█████████████████████████████▉  | 1.2 MB 5.1 MB/s eta 0:00:01\r\u001b[K     |██████████████████████████████  | 1.2 MB 5.1 MB/s eta 0:00:01\r\u001b[K     |██████████████████████████████▍ | 1.2 MB 5.1 MB/s eta 0:00:01\r\u001b[K     |██████████████████████████████▋ | 1.2 MB 5.1 MB/s eta 0:00:01\r\u001b[K     |██████████████████████████████▉ | 1.2 MB 5.1 MB/s eta 0:00:01\r\u001b[K     |███████████████████████████████▏| 1.2 MB 5.1 MB/s eta 0:00:01\r\u001b[K     |███████████████████████████████▍| 1.2 MB 5.1 MB/s eta 0:00:01\r\u001b[K     |███████████████████████████████▋| 1.2 MB 5.1 MB/s eta 0:00:01\r\u001b[K     |████████████████████████████████| 1.3 MB 5.1 MB/s eta 0:00:01\r\u001b[K     |████████████████████████████████| 1.3 MB 5.1 MB/s \n",
            "\u001b[?25hRequirement already satisfied: absl-py>=0.6.1 in /usr/local/lib/python3.7/dist-packages (from tf-agents) (0.12.0)\n",
            "Requirement already satisfied: gin-config>=0.4.0 in /usr/local/lib/python3.7/dist-packages (from tf-agents) (0.4.0)\n",
            "Requirement already satisfied: protobuf>=3.11.3 in /usr/local/lib/python3.7/dist-packages (from tf-agents) (3.17.3)\n",
            "Requirement already satisfied: six>=1.10.0 in /usr/local/lib/python3.7/dist-packages (from tf-agents) (1.15.0)\n",
            "Requirement already satisfied: typing-extensions>=3.7.4.3 in /usr/local/lib/python3.7/dist-packages (from tf-agents) (3.7.4.3)\n",
            "Requirement already satisfied: wrapt>=1.11.1 in /usr/local/lib/python3.7/dist-packages (from tf-agents) (1.12.1)\n",
            "Requirement already satisfied: numpy>=1.13.3 in /usr/local/lib/python3.7/dist-packages (from tf-agents) (1.19.5)\n",
            "Requirement already satisfied: gym>=0.17.0 in /usr/local/lib/python3.7/dist-packages (from tf-agents) (0.17.3)\n",
            "Requirement already satisfied: cloudpickle>=1.3 in /usr/local/lib/python3.7/dist-packages (from tf-agents) (1.3.0)\n",
            "Requirement already satisfied: tensorflow-probability>=0.13.0 in /usr/local/lib/python3.7/dist-packages (from tf-agents) (0.13.0)\n",
            "Requirement already satisfied: scipy in /usr/local/lib/python3.7/dist-packages (from gym>=0.17.0->tf-agents) (1.4.1)\n",
            "Requirement already satisfied: pyglet<=1.5.0,>=1.4.0 in /usr/local/lib/python3.7/dist-packages (from gym>=0.17.0->tf-agents) (1.5.0)\n",
            "Requirement already satisfied: future in /usr/local/lib/python3.7/dist-packages (from pyglet<=1.5.0,>=1.4.0->gym>=0.17.0->tf-agents) (0.16.0)\n",
            "Requirement already satisfied: decorator in /usr/local/lib/python3.7/dist-packages (from tensorflow-probability>=0.13.0->tf-agents) (4.4.2)\n",
            "Requirement already satisfied: dm-tree in /usr/local/lib/python3.7/dist-packages (from tensorflow-probability>=0.13.0->tf-agents) (0.1.6)\n",
            "Requirement already satisfied: gast>=0.3.2 in /usr/local/lib/python3.7/dist-packages (from tensorflow-probability>=0.13.0->tf-agents) (0.4.0)\n",
            "Installing collected packages: tf-agents\n",
            "Successfully installed tf-agents-0.9.0\n"
          ]
        },
        {
          "output_type": "error",
          "ename": "NameError",
          "evalue": "ignored",
          "traceback": [
            "\u001b[0;31m---------------------------------------------------------------------------\u001b[0m",
            "\u001b[0;31mNameError\u001b[0m                                 Traceback (most recent call last)",
            "\u001b[0;32m<ipython-input-1-db18cb34f6af>\u001b[0m in \u001b[0;36m<module>\u001b[0;34m()\u001b[0m\n\u001b[1;32m      6\u001b[0m \u001b[0;34m\u001b[0m\u001b[0m\n\u001b[1;32m      7\u001b[0m q_net = q_network.QNetwork(\n\u001b[0;32m----> 8\u001b[0;31m     \u001b[0mtrain_env\u001b[0m\u001b[0;34m.\u001b[0m\u001b[0mobservation_spec\u001b[0m\u001b[0;34m(\u001b[0m\u001b[0;34m)\u001b[0m\u001b[0;34m,\u001b[0m\u001b[0;34m\u001b[0m\u001b[0;34m\u001b[0m\u001b[0m\n\u001b[0m\u001b[1;32m      9\u001b[0m     \u001b[0mtrain_env\u001b[0m\u001b[0;34m.\u001b[0m\u001b[0maction_spec\u001b[0m\u001b[0;34m(\u001b[0m\u001b[0;34m)\u001b[0m\u001b[0;34m,\u001b[0m\u001b[0;34m\u001b[0m\u001b[0;34m\u001b[0m\u001b[0m\n\u001b[1;32m     10\u001b[0m     \u001b[0mfd_layer_param\u001b[0m \u001b[0;34m=\u001b[0m \u001b[0;34m(\u001b[0m\u001b[0;36m100\u001b[0m\u001b[0;34m,\u001b[0m\u001b[0;34m)\u001b[0m\u001b[0;34m\u001b[0m\u001b[0;34m\u001b[0m\u001b[0m\n",
            "\u001b[0;31mNameError\u001b[0m: name 'train_env' is not defined"
          ]
        }
      ]
    }
  ]
}