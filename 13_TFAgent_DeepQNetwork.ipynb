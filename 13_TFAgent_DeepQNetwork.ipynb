{
  "nbformat": 4,
  "nbformat_minor": 0,
  "metadata": {
    "colab": {
      "name": "dicoding-13-TFAgent-DeepQNetwork.ipynb",
      "provenance": [],
      "authorship_tag": "ABX9TyN8YwL0SiurqsRKxkl+5Wtk",
      "include_colab_link": true
    },
    "kernelspec": {
      "name": "python3",
      "display_name": "Python 3"
    }
  },
  "cells": [
    {
      "cell_type": "markdown",
      "metadata": {
        "id": "view-in-github",
        "colab_type": "text"
      },
      "source": [
        "<a href=\"https://colab.research.google.com/github/zanuarts/dicoding-BPML/blob/master/dicoding_13_TFAgent_DeepQNetwork.ipynb\" target=\"_parent\"><img src=\"https://colab.research.google.com/assets/colab-badge.svg\" alt=\"Open In Colab\"/></a>"
      ]
    },
    {
      "cell_type": "code",
      "metadata": {
        "id": "Wzxpul5PSiYe",
        "colab_type": "code",
        "colab": {}
      },
      "source": [
        "!pip install tf-agents\n",
        "\n",
        "import tensorflow as tf\n",
        "from tf_agents.networks import q_network\n",
        "from tf_agents.agents.dqn import dqn_agent\n",
        "\n",
        "q_net = q_network.QNetwork(\n",
        "    train_env.observation_spec(),\n",
        "    train_env.action_spec(),\n",
        "    fd_layer_param = (100,)\n",
        ")\n",
        "\n",
        "agent = dqn_agent.DqnAgent(\n",
        "    train_env.time_step_spec(),\n",
        "    train_env.action_spec(),\n",
        "    q_network = q_net,\n",
        "    optimizer = optimizer,\n",
        "    td_errors_loss_fn = common.element_wise_squared_loss,\n",
        "    train_step_counter = tf.Variable(0)\n",
        ")\n",
        "\n",
        "agent.initialize()"
      ],
      "execution_count": null,
      "outputs": []
    }
  ]
}