{
  "nbformat": 4,
  "nbformat_minor": 0,
  "metadata": {
    "colab": {
      "name": "07_NLP_latihanTokenizer.ipynb",
      "provenance": [],
      "collapsed_sections": []
    },
    "kernelspec": {
      "name": "python3",
      "display_name": "Python 3"
    }
  },
  "cells": [
    {
      "cell_type": "markdown",
      "metadata": {
        "id": "view-in-github"
      },
      "source": [
        "<a href=\"https://colab.research.google.com/github/nurimammasri/Dicoding-Belajar-Pengembangan-Machine-Learning/blob/main/07_NLP_latihanTokenizer.ipynb\" target=\"_parent\"><img src=\"https://colab.research.google.com/assets/colab-badge.svg\" alt=\"Open In Colab\"/></a>"
      ]
    },
    {
      "cell_type": "code",
      "metadata": {
        "id": "OLfJjh6gkOfs"
      },
      "source": [
        "from tensorflow.keras.preprocessing.text import Tokenizer"
      ],
      "execution_count": 1,
      "outputs": []
    },
    {
      "cell_type": "code",
      "metadata": {
        "id": "DoQBX08Gks3a"
      },
      "source": [
        "teks = ['Saya suka programming',\n",
        "        'Programming sangat menyenangkan',\n",
        "        'Machine Learning berbeda dengan pemrograman konvensional']"
      ],
      "execution_count": 2,
      "outputs": []
    },
    {
      "cell_type": "code",
      "metadata": {
        "id": "BpfC-69amPJk"
      },
      "source": [
        "tokenizer = Tokenizer(num_words= 15, oov_token='-')"
      ],
      "execution_count": 3,
      "outputs": []
    },
    {
      "cell_type": "code",
      "metadata": {
        "id": "bzQ6mgLMk4Bi"
      },
      "source": [
        "tokenizer.fit_on_texts(teks)"
      ],
      "execution_count": 4,
      "outputs": []
    },
    {
      "cell_type": "code",
      "metadata": {
        "id": "pACYLKeOn70V"
      },
      "source": [
        "sequences = tokenizer.texts_to_sequences(teks)"
      ],
      "execution_count": 5,
      "outputs": []
    },
    {
      "cell_type": "code",
      "metadata": {
        "id": "ie5Rpw3ak8Sz",
        "colab": {
          "base_uri": "https://localhost:8080/"
        },
        "outputId": "85278d17-843e-4c7d-b72b-71a11de40e30"
      },
      "source": [
        "print(tokenizer.word_index)"
      ],
      "execution_count": 6,
      "outputs": [
        {
          "output_type": "stream",
          "name": "stdout",
          "text": [
            "{'-': 1, 'programming': 2, 'saya': 3, 'suka': 4, 'sangat': 5, 'menyenangkan': 6, 'machine': 7, 'learning': 8, 'berbeda': 9, 'dengan': 10, 'pemrograman': 11, 'konvensional': 12}\n"
          ]
        }
      ]
    },
    {
      "cell_type": "code",
      "metadata": {
        "id": "llW8a1y6lAFy",
        "colab": {
          "base_uri": "https://localhost:8080/"
        },
        "outputId": "8340032b-e6cb-4e28-8359-fbe09ffcd355"
      },
      "source": [
        "from tensorflow.keras.preprocessing.sequence import pad_sequences\n",
        "sequences_samapanjang = pad_sequences(sequences)\n",
        "print (sequences_samapanjang)"
      ],
      "execution_count": 7,
      "outputs": [
        {
          "output_type": "stream",
          "name": "stdout",
          "text": [
            "[[ 0  0  0  3  4  2]\n",
            " [ 0  0  0  2  5  6]\n",
            " [ 7  8  9 10 11 12]]\n"
          ]
        }
      ]
    },
    {
      "cell_type": "markdown",
      "metadata": {
        "id": "3eoblK_loUrS"
      },
      "source": [
        "Pengambilan kata terakhir dari maxlen (default)"
      ]
    },
    {
      "cell_type": "code",
      "metadata": {
        "id": "YKVTZYNHlSOy",
        "colab": {
          "base_uri": "https://localhost:8080/"
        },
        "outputId": "31fdfea5-6395-4a9f-f67f-da96110ff5a3"
      },
      "source": [
        "sequences_samapanjang = pad_sequences(sequences,\n",
        "                                      padding = 'post',\n",
        "                                      maxlen = 5)\n",
        "print (sequences_samapanjang)"
      ],
      "execution_count": 8,
      "outputs": [
        {
          "output_type": "stream",
          "name": "stdout",
          "text": [
            "[[ 3  4  2  0  0]\n",
            " [ 2  5  6  0  0]\n",
            " [ 8  9 10 11 12]]\n"
          ]
        }
      ]
    },
    {
      "cell_type": "markdown",
      "metadata": {
        "id": "S3gO_kAqoOsq"
      },
      "source": [
        "Pengambilan kata pertama dari maxlen"
      ]
    },
    {
      "cell_type": "code",
      "metadata": {
        "id": "M_BZtD0WlZmL",
        "colab": {
          "base_uri": "https://localhost:8080/"
        },
        "outputId": "1ec9f1b8-6ae3-46aa-8d66-74ae8250e249"
      },
      "source": [
        "sequences_samapanjang = pad_sequences(sequences,\n",
        "                                      padding = 'post',\n",
        "                                      maxlen = 5,\n",
        "                                      truncating = 'post')\n",
        "print (sequences_samapanjang)"
      ],
      "execution_count": 9,
      "outputs": [
        {
          "output_type": "stream",
          "name": "stdout",
          "text": [
            "[[ 3  4  2  0  0]\n",
            " [ 2  5  6  0  0]\n",
            " [ 7  8  9 10 11]]\n"
          ]
        }
      ]
    }
  ]
}