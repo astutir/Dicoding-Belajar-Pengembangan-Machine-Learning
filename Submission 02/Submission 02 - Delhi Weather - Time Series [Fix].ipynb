{
  "nbformat": 4,
  "nbformat_minor": 0,
  "metadata": {
    "colab": {
      "name": "Submission 02 - Delhi Weather - Time Series [Fix].ipynb",
      "provenance": [],
      "collapsed_sections": []
    },
    "kernelspec": {
      "display_name": "Python 3",
      "name": "python3"
    },
    "language_info": {
      "name": "python"
    }
  },
  "cells": [
    {
      "cell_type": "markdown",
      "metadata": {
        "id": "3joSilEVhePh"
      },
      "source": [
        "<a href=\"https://colab.research.google.com/github/nurimammasri/Dicoding-Belajar-Pengembangan-Machine-Learning/blob/main/Submission%2002/Submission%2002%20-%20Delhi%20Weather%20-%20Time%20Series%20%5BFix%5D.ipynb\" target=\"_parent\"><img src=\"https://colab.research.google.com/assets/colab-badge.svg\" alt=\"Open In Colab\"/></a>"
      ]
    },
    {
      "cell_type": "markdown",
      "metadata": {
        "id": "ptkCUP0rleJZ"
      },
      "source": [
        "# **Submission 02 - Delhi Weather Data - Time Series**\n",
        "### **Nur Imam Masri**\n",
        "### **nurimammasri.01@gmail.com**"
      ]
    },
    {
      "cell_type": "markdown",
      "metadata": {
        "id": "OOZtEJLiollF"
      },
      "source": [
        "**Tips n Tricks**\n",
        "\n",
        "* Penggunaan Layer Conv1D dan LSTM\n",
        "* Shuffle = False\n",
        "* Urutkan data berdasarkan date\n",
        "* fillna mean() --> silahkan coba lihat data yg lain\n",
        "* tf.keras.layers.Lambda\n",
        "\n"
      ]
    },
    {
      "cell_type": "code",
      "metadata": {
        "id": "RMS0G6WTrmV6"
      },
      "source": [
        "# model = tf.keras.models.Sequential([\n",
        "#     tf.keras.layers.Cond1D(filters=32. kernel size=5\n",
        "#                            stides=1, padding=\"causal\",\n",
        "#                            activation=\"relu\", input_shape[None, 1]),\n",
        "#     tf.keras.layers.LSTM(64, return_sequences=True),\n",
        "#     tf.keras.layers.LSTM(64),\n",
        "#     tf.keras.layers.Dense(30, activation=\"relu\"),\n",
        "#     tf.keras.layers.Dense(10, activation=\"relu\"),\n",
        "#     tf.keras.layers.Dense(1),\n",
        "#     tf.keras.layers.Lamda(lambda x: x*400)\n",
        "# ])"
      ],
      "execution_count": null,
      "outputs": []
    },
    {
      "cell_type": "markdown",
      "metadata": {
        "id": "Zu1srrSssi60"
      },
      "source": [
        "* LerningRate Scheduler"
      ]
    },
    {
      "cell_type": "code",
      "metadata": {
        "id": "WS_bvQpZslwS"
      },
      "source": [
        "# learning_rate_scheduler = tf.keras.callbacks.LearningRateScheduler(\n",
        "#     lambda epoch: 1e-8 * 10**(epoch/20)\n",
        "# )\n",
        "# optimizer = tf.keras.optimizers.SGD(lr=1.0000e-04, momentum=0.9)\n",
        "# model.compile(loss=tf.keras.losses.Huber(),\n",
        "#               optimizer=optimizer,\n",
        "#               metrics=[\"mae\"])"
      ],
      "execution_count": null,
      "outputs": []
    },
    {
      "cell_type": "markdown",
      "metadata": {
        "id": "C77gV-UqcqmC"
      },
      "source": [
        "# **Import Library**"
      ]
    },
    {
      "cell_type": "code",
      "metadata": {
        "id": "Qomv9XbWWQbT"
      },
      "source": [
        "import numpy as np \n",
        "import pandas as pd \n",
        "import matplotlib.pyplot as plt \n",
        "import seaborn as sns"
      ],
      "execution_count": null,
      "outputs": []
    },
    {
      "cell_type": "code",
      "metadata": {
        "id": "DFWela_L_K6W"
      },
      "source": [
        "plt.style.use('seaborn')"
      ],
      "execution_count": null,
      "outputs": []
    },
    {
      "cell_type": "markdown",
      "metadata": {
        "id": "P6Zvp9Zac5wV"
      },
      "source": [
        "# **Data Loading**\n",
        "\n",
        "**Delhi Weather Data**\n",
        "\n",
        "[Delhi Weather Data](https://www.kaggle.com/mahirkukreja/delhi-weather-data)\n",
        "\n",
        "**Context**\n",
        "\n",
        "This dataset contains weather data for New Delhi, India.\n",
        "\n",
        "**Content**\n",
        "\n",
        "This data was taken out from wunderground with the help of their easy to use api.\n",
        "It contains various features such as temperature, pressure, humidity, rain, precipitation,etc."
      ]
    },
    {
      "cell_type": "markdown",
      "metadata": {
        "id": "4D7I0Ltmo0IV"
      },
      "source": [
        "Data yang digunakan berasal dari Dataset dari kaggle yang memiliki dataset:\n",
        "\n",
        "* testset.csv"
      ]
    },
    {
      "cell_type": "markdown",
      "metadata": {
        "id": "wqK3FsL_FBCU"
      },
      "source": [
        "**use kaggle API**"
      ]
    },
    {
      "cell_type": "markdown",
      "metadata": {
        "id": "cUA5wJ7cDjrK"
      },
      "source": [
        "**Download dataset from Kaggle**"
      ]
    },
    {
      "cell_type": "code",
      "metadata": {
        "id": "QhoKkGq3BISX"
      },
      "source": [
        "# # install kaggle package\n",
        "# !pip install -q kaggle"
      ],
      "execution_count": null,
      "outputs": []
    },
    {
      "cell_type": "code",
      "metadata": {
        "id": "Ma8y8WDUBWKF"
      },
      "source": [
        "# # upload kaggle.json\n",
        "# from google.colab import files\n",
        "# files.upload()"
      ],
      "execution_count": null,
      "outputs": []
    },
    {
      "cell_type": "code",
      "metadata": {
        "id": "vvmLli7zBeTL"
      },
      "source": [
        "# # make directory and change permission\n",
        "# !mkdir -p ~/.kaggle\n",
        "# !cp kaggle.json ~/.kaggle/\n",
        "# !chmod 600 ~/.kaggle/kaggle.json\n",
        "# !ls ~/.kaggle"
      ],
      "execution_count": null,
      "outputs": []
    },
    {
      "cell_type": "code",
      "metadata": {
        "id": "u3B94mzNCtvq"
      },
      "source": [
        "# # test kaggle dataset list\n",
        "# !kaggle datasets list"
      ],
      "execution_count": null,
      "outputs": []
    },
    {
      "cell_type": "code",
      "metadata": {
        "id": "hgW3Nwa_DJ6j"
      },
      "source": [
        "# # download dataset, choose 'copy api command' from kaggle dataset\n",
        "# !kaggle datasets download -d mahirkukreja/delhi-weather-data"
      ],
      "execution_count": null,
      "outputs": []
    },
    {
      "cell_type": "code",
      "metadata": {
        "id": "hglc0CN-FBgI"
      },
      "source": [
        "# # unzip\n",
        "# !mkdir delhi-weather-data\n",
        "# !unzip delhi-weather-data.zip -d delhi-weather-data\n",
        "# !ls delhi-weather-data"
      ],
      "execution_count": null,
      "outputs": []
    },
    {
      "cell_type": "code",
      "metadata": {
        "id": "V6hYfYuXF7Fy"
      },
      "source": [
        "# import pandas as pd\n",
        "# df_weather = pd.read_csv('delhi-weather-data/testset.csv')\n",
        "# df_weather.head()"
      ],
      "execution_count": null,
      "outputs": []
    },
    {
      "cell_type": "markdown",
      "metadata": {
        "id": "mY1TYn4ZE9U6"
      },
      "source": [
        "**use by link**"
      ]
    },
    {
      "cell_type": "code",
      "metadata": {
        "colab": {
          "base_uri": "https://localhost:8080/",
          "height": 203
        },
        "id": "Yb08cPnniD2-",
        "outputId": "1e035648-8da0-4df0-cbfb-8073d06788fd"
      },
      "source": [
        "import pandas as pd\n",
        "df_weather = pd.read_csv('https://drive.google.com/uc?id=1DJKQoYl1FDhp7eL2gz55wxYz0WBmIzrj')\n",
        "df_weather.head()"
      ],
      "execution_count": null,
      "outputs": [
        {
          "output_type": "execute_result",
          "data": {
            "text/html": [
              "<div>\n",
              "<style scoped>\n",
              "    .dataframe tbody tr th:only-of-type {\n",
              "        vertical-align: middle;\n",
              "    }\n",
              "\n",
              "    .dataframe tbody tr th {\n",
              "        vertical-align: top;\n",
              "    }\n",
              "\n",
              "    .dataframe thead th {\n",
              "        text-align: right;\n",
              "    }\n",
              "</style>\n",
              "<table border=\"1\" class=\"dataframe\">\n",
              "  <thead>\n",
              "    <tr style=\"text-align: right;\">\n",
              "      <th></th>\n",
              "      <th>datetime_utc</th>\n",
              "      <th>_conds</th>\n",
              "      <th>_dewptm</th>\n",
              "      <th>_fog</th>\n",
              "      <th>_hail</th>\n",
              "      <th>_heatindexm</th>\n",
              "      <th>_hum</th>\n",
              "      <th>_precipm</th>\n",
              "      <th>_pressurem</th>\n",
              "      <th>_rain</th>\n",
              "      <th>_snow</th>\n",
              "      <th>_tempm</th>\n",
              "      <th>_thunder</th>\n",
              "      <th>_tornado</th>\n",
              "      <th>_vism</th>\n",
              "      <th>_wdird</th>\n",
              "      <th>_wdire</th>\n",
              "      <th>_wgustm</th>\n",
              "      <th>_windchillm</th>\n",
              "      <th>_wspdm</th>\n",
              "    </tr>\n",
              "  </thead>\n",
              "  <tbody>\n",
              "    <tr>\n",
              "      <th>0</th>\n",
              "      <td>19961101-11:00</td>\n",
              "      <td>Smoke</td>\n",
              "      <td>9.0</td>\n",
              "      <td>0</td>\n",
              "      <td>0</td>\n",
              "      <td>NaN</td>\n",
              "      <td>27.0</td>\n",
              "      <td>NaN</td>\n",
              "      <td>1010.0</td>\n",
              "      <td>0</td>\n",
              "      <td>0</td>\n",
              "      <td>30.0</td>\n",
              "      <td>0</td>\n",
              "      <td>0</td>\n",
              "      <td>5.0</td>\n",
              "      <td>280.0</td>\n",
              "      <td>West</td>\n",
              "      <td>NaN</td>\n",
              "      <td>NaN</td>\n",
              "      <td>7.4</td>\n",
              "    </tr>\n",
              "    <tr>\n",
              "      <th>1</th>\n",
              "      <td>19961101-12:00</td>\n",
              "      <td>Smoke</td>\n",
              "      <td>10.0</td>\n",
              "      <td>0</td>\n",
              "      <td>0</td>\n",
              "      <td>NaN</td>\n",
              "      <td>32.0</td>\n",
              "      <td>NaN</td>\n",
              "      <td>-9999.0</td>\n",
              "      <td>0</td>\n",
              "      <td>0</td>\n",
              "      <td>28.0</td>\n",
              "      <td>0</td>\n",
              "      <td>0</td>\n",
              "      <td>NaN</td>\n",
              "      <td>0.0</td>\n",
              "      <td>North</td>\n",
              "      <td>NaN</td>\n",
              "      <td>NaN</td>\n",
              "      <td>NaN</td>\n",
              "    </tr>\n",
              "    <tr>\n",
              "      <th>2</th>\n",
              "      <td>19961101-13:00</td>\n",
              "      <td>Smoke</td>\n",
              "      <td>11.0</td>\n",
              "      <td>0</td>\n",
              "      <td>0</td>\n",
              "      <td>NaN</td>\n",
              "      <td>44.0</td>\n",
              "      <td>NaN</td>\n",
              "      <td>-9999.0</td>\n",
              "      <td>0</td>\n",
              "      <td>0</td>\n",
              "      <td>24.0</td>\n",
              "      <td>0</td>\n",
              "      <td>0</td>\n",
              "      <td>NaN</td>\n",
              "      <td>0.0</td>\n",
              "      <td>North</td>\n",
              "      <td>NaN</td>\n",
              "      <td>NaN</td>\n",
              "      <td>NaN</td>\n",
              "    </tr>\n",
              "    <tr>\n",
              "      <th>3</th>\n",
              "      <td>19961101-14:00</td>\n",
              "      <td>Smoke</td>\n",
              "      <td>10.0</td>\n",
              "      <td>0</td>\n",
              "      <td>0</td>\n",
              "      <td>NaN</td>\n",
              "      <td>41.0</td>\n",
              "      <td>NaN</td>\n",
              "      <td>1010.0</td>\n",
              "      <td>0</td>\n",
              "      <td>0</td>\n",
              "      <td>24.0</td>\n",
              "      <td>0</td>\n",
              "      <td>0</td>\n",
              "      <td>2.0</td>\n",
              "      <td>0.0</td>\n",
              "      <td>North</td>\n",
              "      <td>NaN</td>\n",
              "      <td>NaN</td>\n",
              "      <td>NaN</td>\n",
              "    </tr>\n",
              "    <tr>\n",
              "      <th>4</th>\n",
              "      <td>19961101-16:00</td>\n",
              "      <td>Smoke</td>\n",
              "      <td>11.0</td>\n",
              "      <td>0</td>\n",
              "      <td>0</td>\n",
              "      <td>NaN</td>\n",
              "      <td>47.0</td>\n",
              "      <td>NaN</td>\n",
              "      <td>1011.0</td>\n",
              "      <td>0</td>\n",
              "      <td>0</td>\n",
              "      <td>23.0</td>\n",
              "      <td>0</td>\n",
              "      <td>0</td>\n",
              "      <td>1.2</td>\n",
              "      <td>0.0</td>\n",
              "      <td>North</td>\n",
              "      <td>NaN</td>\n",
              "      <td>NaN</td>\n",
              "      <td>0.0</td>\n",
              "    </tr>\n",
              "  </tbody>\n",
              "</table>\n",
              "</div>"
            ],
            "text/plain": [
              "     datetime_utc  _conds   _dewptm  ...   _wgustm   _windchillm   _wspdm\n",
              "0  19961101-11:00   Smoke       9.0  ...       NaN           NaN      7.4\n",
              "1  19961101-12:00   Smoke      10.0  ...       NaN           NaN      NaN\n",
              "2  19961101-13:00   Smoke      11.0  ...       NaN           NaN      NaN\n",
              "3  19961101-14:00   Smoke      10.0  ...       NaN           NaN      NaN\n",
              "4  19961101-16:00   Smoke      11.0  ...       NaN           NaN      0.0\n",
              "\n",
              "[5 rows x 20 columns]"
            ]
          },
          "metadata": {
            "tags": []
          },
          "execution_count": 1
        }
      ]
    },
    {
      "cell_type": "markdown",
      "metadata": {
        "id": "JskPBZ-difKS"
      },
      "source": [
        "**use by Github**"
      ]
    },
    {
      "cell_type": "code",
      "metadata": {
        "colab": {
          "base_uri": "https://localhost:8080/",
          "height": 307
        },
        "id": "J5u7jYHdifKT",
        "outputId": "b0ea8a41-6d46-4b37-9710-04f2c5d1b20a"
      },
      "source": [
        "import pandas as pd\n",
        "# testset.csv\n",
        "df_weather = pd.read_csv('https://github.com/nurimammasri/Dicoding-Belajar-Pengembangan-Machine-Learning/raw/main/Submission%2002/testset.csv')\n",
        "df_weather.head()"
      ],
      "execution_count": 1,
      "outputs": [
        {
          "output_type": "execute_result",
          "data": {
            "text/html": [
              "<div>\n",
              "<style scoped>\n",
              "    .dataframe tbody tr th:only-of-type {\n",
              "        vertical-align: middle;\n",
              "    }\n",
              "\n",
              "    .dataframe tbody tr th {\n",
              "        vertical-align: top;\n",
              "    }\n",
              "\n",
              "    .dataframe thead th {\n",
              "        text-align: right;\n",
              "    }\n",
              "</style>\n",
              "<table border=\"1\" class=\"dataframe\">\n",
              "  <thead>\n",
              "    <tr style=\"text-align: right;\">\n",
              "      <th></th>\n",
              "      <th>datetime_utc</th>\n",
              "      <th>_conds</th>\n",
              "      <th>_dewptm</th>\n",
              "      <th>_fog</th>\n",
              "      <th>_hail</th>\n",
              "      <th>_heatindexm</th>\n",
              "      <th>_hum</th>\n",
              "      <th>_precipm</th>\n",
              "      <th>_pressurem</th>\n",
              "      <th>_rain</th>\n",
              "      <th>_snow</th>\n",
              "      <th>_tempm</th>\n",
              "      <th>_thunder</th>\n",
              "      <th>_tornado</th>\n",
              "      <th>_vism</th>\n",
              "      <th>_wdird</th>\n",
              "      <th>_wdire</th>\n",
              "      <th>_wgustm</th>\n",
              "      <th>_windchillm</th>\n",
              "      <th>_wspdm</th>\n",
              "    </tr>\n",
              "  </thead>\n",
              "  <tbody>\n",
              "    <tr>\n",
              "      <th>0</th>\n",
              "      <td>19961101-11:00</td>\n",
              "      <td>Smoke</td>\n",
              "      <td>9.0</td>\n",
              "      <td>0</td>\n",
              "      <td>0</td>\n",
              "      <td>NaN</td>\n",
              "      <td>27.0</td>\n",
              "      <td>NaN</td>\n",
              "      <td>1010.0</td>\n",
              "      <td>0</td>\n",
              "      <td>0</td>\n",
              "      <td>30.0</td>\n",
              "      <td>0</td>\n",
              "      <td>0</td>\n",
              "      <td>5.0</td>\n",
              "      <td>280.0</td>\n",
              "      <td>West</td>\n",
              "      <td>NaN</td>\n",
              "      <td>NaN</td>\n",
              "      <td>7.4</td>\n",
              "    </tr>\n",
              "    <tr>\n",
              "      <th>1</th>\n",
              "      <td>19961101-12:00</td>\n",
              "      <td>Smoke</td>\n",
              "      <td>10.0</td>\n",
              "      <td>0</td>\n",
              "      <td>0</td>\n",
              "      <td>NaN</td>\n",
              "      <td>32.0</td>\n",
              "      <td>NaN</td>\n",
              "      <td>-9999.0</td>\n",
              "      <td>0</td>\n",
              "      <td>0</td>\n",
              "      <td>28.0</td>\n",
              "      <td>0</td>\n",
              "      <td>0</td>\n",
              "      <td>NaN</td>\n",
              "      <td>0.0</td>\n",
              "      <td>North</td>\n",
              "      <td>NaN</td>\n",
              "      <td>NaN</td>\n",
              "      <td>NaN</td>\n",
              "    </tr>\n",
              "    <tr>\n",
              "      <th>2</th>\n",
              "      <td>19961101-13:00</td>\n",
              "      <td>Smoke</td>\n",
              "      <td>11.0</td>\n",
              "      <td>0</td>\n",
              "      <td>0</td>\n",
              "      <td>NaN</td>\n",
              "      <td>44.0</td>\n",
              "      <td>NaN</td>\n",
              "      <td>-9999.0</td>\n",
              "      <td>0</td>\n",
              "      <td>0</td>\n",
              "      <td>24.0</td>\n",
              "      <td>0</td>\n",
              "      <td>0</td>\n",
              "      <td>NaN</td>\n",
              "      <td>0.0</td>\n",
              "      <td>North</td>\n",
              "      <td>NaN</td>\n",
              "      <td>NaN</td>\n",
              "      <td>NaN</td>\n",
              "    </tr>\n",
              "    <tr>\n",
              "      <th>3</th>\n",
              "      <td>19961101-14:00</td>\n",
              "      <td>Smoke</td>\n",
              "      <td>10.0</td>\n",
              "      <td>0</td>\n",
              "      <td>0</td>\n",
              "      <td>NaN</td>\n",
              "      <td>41.0</td>\n",
              "      <td>NaN</td>\n",
              "      <td>1010.0</td>\n",
              "      <td>0</td>\n",
              "      <td>0</td>\n",
              "      <td>24.0</td>\n",
              "      <td>0</td>\n",
              "      <td>0</td>\n",
              "      <td>2.0</td>\n",
              "      <td>0.0</td>\n",
              "      <td>North</td>\n",
              "      <td>NaN</td>\n",
              "      <td>NaN</td>\n",
              "      <td>NaN</td>\n",
              "    </tr>\n",
              "    <tr>\n",
              "      <th>4</th>\n",
              "      <td>19961101-16:00</td>\n",
              "      <td>Smoke</td>\n",
              "      <td>11.0</td>\n",
              "      <td>0</td>\n",
              "      <td>0</td>\n",
              "      <td>NaN</td>\n",
              "      <td>47.0</td>\n",
              "      <td>NaN</td>\n",
              "      <td>1011.0</td>\n",
              "      <td>0</td>\n",
              "      <td>0</td>\n",
              "      <td>23.0</td>\n",
              "      <td>0</td>\n",
              "      <td>0</td>\n",
              "      <td>1.2</td>\n",
              "      <td>0.0</td>\n",
              "      <td>North</td>\n",
              "      <td>NaN</td>\n",
              "      <td>NaN</td>\n",
              "      <td>0.0</td>\n",
              "    </tr>\n",
              "  </tbody>\n",
              "</table>\n",
              "</div>"
            ],
            "text/plain": [
              "     datetime_utc  _conds   _dewptm  ...   _wgustm   _windchillm   _wspdm\n",
              "0  19961101-11:00   Smoke       9.0  ...       NaN           NaN      7.4\n",
              "1  19961101-12:00   Smoke      10.0  ...       NaN           NaN      NaN\n",
              "2  19961101-13:00   Smoke      11.0  ...       NaN           NaN      NaN\n",
              "3  19961101-14:00   Smoke      10.0  ...       NaN           NaN      NaN\n",
              "4  19961101-16:00   Smoke      11.0  ...       NaN           NaN      0.0\n",
              "\n",
              "[5 rows x 20 columns]"
            ]
          },
          "metadata": {},
          "execution_count": 1
        }
      ]
    },
    {
      "cell_type": "markdown",
      "metadata": {
        "id": "tTkvudXUKvFS"
      },
      "source": [
        "**Modify Column**"
      ]
    },
    {
      "cell_type": "code",
      "metadata": {
        "id": "l6LJ9WORKxvH"
      },
      "source": [
        "df_weather.columns = [column.strip().replace('_', '') for column in df_weather.columns]"
      ],
      "execution_count": null,
      "outputs": []
    },
    {
      "cell_type": "code",
      "metadata": {
        "colab": {
          "base_uri": "https://localhost:8080/",
          "height": 110
        },
        "id": "Z9-aYxTGLDk9",
        "outputId": "03fec7c4-f32e-4a43-d1ee-fdb1f6b89c06"
      },
      "source": [
        "df_weather.head(2)"
      ],
      "execution_count": null,
      "outputs": [
        {
          "output_type": "execute_result",
          "data": {
            "text/html": [
              "<div>\n",
              "<style scoped>\n",
              "    .dataframe tbody tr th:only-of-type {\n",
              "        vertical-align: middle;\n",
              "    }\n",
              "\n",
              "    .dataframe tbody tr th {\n",
              "        vertical-align: top;\n",
              "    }\n",
              "\n",
              "    .dataframe thead th {\n",
              "        text-align: right;\n",
              "    }\n",
              "</style>\n",
              "<table border=\"1\" class=\"dataframe\">\n",
              "  <thead>\n",
              "    <tr style=\"text-align: right;\">\n",
              "      <th></th>\n",
              "      <th>datetimeutc</th>\n",
              "      <th>conds</th>\n",
              "      <th>dewptm</th>\n",
              "      <th>fog</th>\n",
              "      <th>hail</th>\n",
              "      <th>heatindexm</th>\n",
              "      <th>hum</th>\n",
              "      <th>precipm</th>\n",
              "      <th>pressurem</th>\n",
              "      <th>rain</th>\n",
              "      <th>snow</th>\n",
              "      <th>tempm</th>\n",
              "      <th>thunder</th>\n",
              "      <th>tornado</th>\n",
              "      <th>vism</th>\n",
              "      <th>wdird</th>\n",
              "      <th>wdire</th>\n",
              "      <th>wgustm</th>\n",
              "      <th>windchillm</th>\n",
              "      <th>wspdm</th>\n",
              "    </tr>\n",
              "  </thead>\n",
              "  <tbody>\n",
              "    <tr>\n",
              "      <th>0</th>\n",
              "      <td>19961101-11:00</td>\n",
              "      <td>Smoke</td>\n",
              "      <td>9.0</td>\n",
              "      <td>0</td>\n",
              "      <td>0</td>\n",
              "      <td>NaN</td>\n",
              "      <td>27.0</td>\n",
              "      <td>NaN</td>\n",
              "      <td>1010.0</td>\n",
              "      <td>0</td>\n",
              "      <td>0</td>\n",
              "      <td>30.0</td>\n",
              "      <td>0</td>\n",
              "      <td>0</td>\n",
              "      <td>5.0</td>\n",
              "      <td>280.0</td>\n",
              "      <td>West</td>\n",
              "      <td>NaN</td>\n",
              "      <td>NaN</td>\n",
              "      <td>7.4</td>\n",
              "    </tr>\n",
              "    <tr>\n",
              "      <th>1</th>\n",
              "      <td>19961101-12:00</td>\n",
              "      <td>Smoke</td>\n",
              "      <td>10.0</td>\n",
              "      <td>0</td>\n",
              "      <td>0</td>\n",
              "      <td>NaN</td>\n",
              "      <td>32.0</td>\n",
              "      <td>NaN</td>\n",
              "      <td>-9999.0</td>\n",
              "      <td>0</td>\n",
              "      <td>0</td>\n",
              "      <td>28.0</td>\n",
              "      <td>0</td>\n",
              "      <td>0</td>\n",
              "      <td>NaN</td>\n",
              "      <td>0.0</td>\n",
              "      <td>North</td>\n",
              "      <td>NaN</td>\n",
              "      <td>NaN</td>\n",
              "      <td>NaN</td>\n",
              "    </tr>\n",
              "  </tbody>\n",
              "</table>\n",
              "</div>"
            ],
            "text/plain": [
              "      datetimeutc  conds  dewptm  fog  ...  wdire  wgustm  windchillm  wspdm\n",
              "0  19961101-11:00  Smoke     9.0    0  ...   West     NaN         NaN    7.4\n",
              "1  19961101-12:00  Smoke    10.0    0  ...  North     NaN         NaN    NaN\n",
              "\n",
              "[2 rows x 20 columns]"
            ]
          },
          "metadata": {
            "tags": []
          },
          "execution_count": 3
        }
      ]
    },
    {
      "cell_type": "markdown",
      "metadata": {
        "id": "yaCAQiNWLSfA"
      },
      "source": [
        "**Min Max**"
      ]
    },
    {
      "cell_type": "code",
      "metadata": {
        "colab": {
          "base_uri": "https://localhost:8080/"
        },
        "id": "0YTVDNciNpjt",
        "outputId": "7b1ec56e-90ad-4e49-e3d5-f16d2c96bfab"
      },
      "source": [
        "df_weather.min()"
      ],
      "execution_count": null,
      "outputs": [
        {
          "output_type": "execute_result",
          "data": {
            "text/plain": [
              "datetimeutc    19961101-11:00\n",
              "dewptm                    -24\n",
              "fog                         0\n",
              "hail                        0\n",
              "heatindexm               26.8\n",
              "hum                         4\n",
              "precipm                   NaN\n",
              "pressurem               -9999\n",
              "rain                        0\n",
              "snow                        0\n",
              "tempm                       1\n",
              "thunder                     0\n",
              "tornado                     0\n",
              "vism                        0\n",
              "wdird                       0\n",
              "wgustm                   25.9\n",
              "windchillm                2.1\n",
              "wspdm                       0\n",
              "dtype: object"
            ]
          },
          "metadata": {
            "tags": []
          },
          "execution_count": 4
        }
      ]
    },
    {
      "cell_type": "code",
      "metadata": {
        "colab": {
          "base_uri": "https://localhost:8080/"
        },
        "id": "M6XIyq62A-oL",
        "outputId": "63096296-f889-4f14-caa8-e93c2a0c492b"
      },
      "source": [
        "df_weather.max()"
      ],
      "execution_count": null,
      "outputs": [
        {
          "output_type": "execute_result",
          "data": {
            "text/plain": [
              "datetimeutc    20170424-18:00\n",
              "dewptm                     75\n",
              "fog                         1\n",
              "hail                        1\n",
              "heatindexm               73.6\n",
              "hum                       243\n",
              "precipm                   NaN\n",
              "pressurem         1.01061e+08\n",
              "rain                        1\n",
              "snow                        1\n",
              "tempm                      90\n",
              "thunder                     1\n",
              "tornado                     1\n",
              "vism                     6436\n",
              "wdird                     960\n",
              "wgustm                   92.6\n",
              "windchillm                7.3\n",
              "wspdm                  1514.9\n",
              "dtype: object"
            ]
          },
          "metadata": {
            "tags": []
          },
          "execution_count": 5
        }
      ]
    },
    {
      "cell_type": "markdown",
      "metadata": {
        "id": "eJpdHIVrk5Vo"
      },
      "source": [
        "Menampilkan daftar columns"
      ]
    },
    {
      "cell_type": "code",
      "metadata": {
        "colab": {
          "base_uri": "https://localhost:8080/"
        },
        "id": "bwzjcTFtkYlV",
        "outputId": "853f325b-2ba2-4f7f-a7fb-cb1dbe1dec36"
      },
      "source": [
        "df_weather.columns"
      ],
      "execution_count": null,
      "outputs": [
        {
          "output_type": "execute_result",
          "data": {
            "text/plain": [
              "Index(['datetimeutc', 'conds', 'dewptm', 'fog', 'hail', 'heatindexm', 'hum',\n",
              "       'precipm', 'pressurem', 'rain', 'snow', 'tempm', 'thunder', 'tornado',\n",
              "       'vism', 'wdird', 'wdire', 'wgustm', 'windchillm', 'wspdm'],\n",
              "      dtype='object')"
            ]
          },
          "metadata": {
            "tags": []
          },
          "execution_count": 6
        }
      ]
    },
    {
      "cell_type": "markdown",
      "metadata": {
        "id": "X3aaCSq4CQX8"
      },
      "source": [
        "Ada 100990 baris data yang berarti ada 100990 per datetime\n",
        "\n",
        "20 kolom yang berarti 20 columns (Features), Namun yang akan digunakan dalam kasus ini hanya untuk datetime dan temperature"
      ]
    },
    {
      "cell_type": "code",
      "metadata": {
        "colab": {
          "base_uri": "https://localhost:8080/"
        },
        "id": "xd5Wc--0A3Kb",
        "outputId": "ebb39e61-5a15-4f0a-ce51-d8be3cf94d2f"
      },
      "source": [
        "# the shape of data\n",
        "print('Total Row:', df_weather.shape[0])\n",
        "print('Total Columns:', df_weather.shape[1])\n",
        "df_weather.shape"
      ],
      "execution_count": null,
      "outputs": [
        {
          "output_type": "stream",
          "text": [
            "Total Row: 100990\n",
            "Total Columns: 20\n"
          ],
          "name": "stdout"
        },
        {
          "output_type": "execute_result",
          "data": {
            "text/plain": [
              "(100990, 20)"
            ]
          },
          "metadata": {
            "tags": []
          },
          "execution_count": 7
        }
      ]
    },
    {
      "cell_type": "markdown",
      "metadata": {
        "id": "gS-2g-YmOIa1"
      },
      "source": [
        "Melihat keseluruhan profile data, dapat dilihat terdapat data null pada banyak features."
      ]
    },
    {
      "cell_type": "code",
      "metadata": {
        "colab": {
          "base_uri": "https://localhost:8080/"
        },
        "id": "Ledn0Dr_OEXO",
        "outputId": "ca425eb2-d53f-487b-d614-88de1d535f1c"
      },
      "source": [
        "df_weather.info()"
      ],
      "execution_count": null,
      "outputs": [
        {
          "output_type": "stream",
          "text": [
            "<class 'pandas.core.frame.DataFrame'>\n",
            "RangeIndex: 100990 entries, 0 to 100989\n",
            "Data columns (total 20 columns):\n",
            " #   Column       Non-Null Count   Dtype  \n",
            "---  ------       --------------   -----  \n",
            " 0   datetimeutc  100990 non-null  object \n",
            " 1   conds        100918 non-null  object \n",
            " 2   dewptm       100369 non-null  float64\n",
            " 3   fog          100990 non-null  int64  \n",
            " 4   hail         100990 non-null  int64  \n",
            " 5   heatindexm   29155 non-null   float64\n",
            " 6   hum          100233 non-null  float64\n",
            " 7   precipm      0 non-null       float64\n",
            " 8   pressurem    100758 non-null  float64\n",
            " 9   rain         100990 non-null  int64  \n",
            " 10  snow         100990 non-null  int64  \n",
            " 11  tempm        100317 non-null  float64\n",
            " 12  thunder      100990 non-null  int64  \n",
            " 13  tornado      100990 non-null  int64  \n",
            " 14  vism         96562 non-null   float64\n",
            " 15  wdird        86235 non-null   float64\n",
            " 16  wdire        86235 non-null   object \n",
            " 17  wgustm       1072 non-null    float64\n",
            " 18  windchillm   579 non-null     float64\n",
            " 19  wspdm        98632 non-null   float64\n",
            "dtypes: float64(11), int64(6), object(3)\n",
            "memory usage: 15.4+ MB\n"
          ],
          "name": "stdout"
        }
      ]
    },
    {
      "cell_type": "code",
      "metadata": {
        "colab": {
          "base_uri": "https://localhost:8080/",
          "height": 315
        },
        "id": "gSYWy0ljOZsF",
        "outputId": "8f9815b6-f9c6-4088-823b-7c620616eae2"
      },
      "source": [
        "df_weather.describe()"
      ],
      "execution_count": null,
      "outputs": [
        {
          "output_type": "execute_result",
          "data": {
            "text/html": [
              "<div>\n",
              "<style scoped>\n",
              "    .dataframe tbody tr th:only-of-type {\n",
              "        vertical-align: middle;\n",
              "    }\n",
              "\n",
              "    .dataframe tbody tr th {\n",
              "        vertical-align: top;\n",
              "    }\n",
              "\n",
              "    .dataframe thead th {\n",
              "        text-align: right;\n",
              "    }\n",
              "</style>\n",
              "<table border=\"1\" class=\"dataframe\">\n",
              "  <thead>\n",
              "    <tr style=\"text-align: right;\">\n",
              "      <th></th>\n",
              "      <th>dewptm</th>\n",
              "      <th>fog</th>\n",
              "      <th>hail</th>\n",
              "      <th>heatindexm</th>\n",
              "      <th>hum</th>\n",
              "      <th>precipm</th>\n",
              "      <th>pressurem</th>\n",
              "      <th>rain</th>\n",
              "      <th>snow</th>\n",
              "      <th>tempm</th>\n",
              "      <th>thunder</th>\n",
              "      <th>tornado</th>\n",
              "      <th>vism</th>\n",
              "      <th>wdird</th>\n",
              "      <th>wgustm</th>\n",
              "      <th>windchillm</th>\n",
              "      <th>wspdm</th>\n",
              "    </tr>\n",
              "  </thead>\n",
              "  <tbody>\n",
              "    <tr>\n",
              "      <th>count</th>\n",
              "      <td>100369.000000</td>\n",
              "      <td>100990.000000</td>\n",
              "      <td>100990.000000</td>\n",
              "      <td>29155.000000</td>\n",
              "      <td>100233.000000</td>\n",
              "      <td>0.0</td>\n",
              "      <td>1.007580e+05</td>\n",
              "      <td>100990.000000</td>\n",
              "      <td>100990.000000</td>\n",
              "      <td>100317.000000</td>\n",
              "      <td>100990.000000</td>\n",
              "      <td>100990.00000</td>\n",
              "      <td>96562.000000</td>\n",
              "      <td>86235.000000</td>\n",
              "      <td>1072.000000</td>\n",
              "      <td>579.000000</td>\n",
              "      <td>98632.000000</td>\n",
              "    </tr>\n",
              "    <tr>\n",
              "      <th>mean</th>\n",
              "      <td>15.741205</td>\n",
              "      <td>0.069690</td>\n",
              "      <td>0.000129</td>\n",
              "      <td>35.651710</td>\n",
              "      <td>57.909481</td>\n",
              "      <td>NaN</td>\n",
              "      <td>1.932331e+03</td>\n",
              "      <td>0.026260</td>\n",
              "      <td>0.000010</td>\n",
              "      <td>25.451269</td>\n",
              "      <td>0.009427</td>\n",
              "      <td>0.00002</td>\n",
              "      <td>2.402774</td>\n",
              "      <td>163.549974</td>\n",
              "      <td>37.671175</td>\n",
              "      <td>5.713817</td>\n",
              "      <td>7.678463</td>\n",
              "    </tr>\n",
              "    <tr>\n",
              "      <th>std</th>\n",
              "      <td>7.058587</td>\n",
              "      <td>0.254625</td>\n",
              "      <td>0.011345</td>\n",
              "      <td>5.015384</td>\n",
              "      <td>23.807771</td>\n",
              "      <td>NaN</td>\n",
              "      <td>3.183786e+05</td>\n",
              "      <td>0.159908</td>\n",
              "      <td>0.003147</td>\n",
              "      <td>8.482859</td>\n",
              "      <td>0.096633</td>\n",
              "      <td>0.00445</td>\n",
              "      <td>20.746028</td>\n",
              "      <td>120.002076</td>\n",
              "      <td>6.848666</td>\n",
              "      <td>1.203290</td>\n",
              "      <td>11.932157</td>\n",
              "    </tr>\n",
              "    <tr>\n",
              "      <th>min</th>\n",
              "      <td>-24.000000</td>\n",
              "      <td>0.000000</td>\n",
              "      <td>0.000000</td>\n",
              "      <td>26.800000</td>\n",
              "      <td>4.000000</td>\n",
              "      <td>NaN</td>\n",
              "      <td>-9.999000e+03</td>\n",
              "      <td>0.000000</td>\n",
              "      <td>0.000000</td>\n",
              "      <td>1.000000</td>\n",
              "      <td>0.000000</td>\n",
              "      <td>0.00000</td>\n",
              "      <td>0.000000</td>\n",
              "      <td>0.000000</td>\n",
              "      <td>25.900000</td>\n",
              "      <td>2.100000</td>\n",
              "      <td>0.000000</td>\n",
              "    </tr>\n",
              "    <tr>\n",
              "      <th>25%</th>\n",
              "      <td>10.000000</td>\n",
              "      <td>0.000000</td>\n",
              "      <td>0.000000</td>\n",
              "      <td>31.700000</td>\n",
              "      <td>39.000000</td>\n",
              "      <td>NaN</td>\n",
              "      <td>1.002000e+03</td>\n",
              "      <td>0.000000</td>\n",
              "      <td>0.000000</td>\n",
              "      <td>19.000000</td>\n",
              "      <td>0.000000</td>\n",
              "      <td>0.00000</td>\n",
              "      <td>1.500000</td>\n",
              "      <td>50.000000</td>\n",
              "      <td>33.300000</td>\n",
              "      <td>4.900000</td>\n",
              "      <td>0.000000</td>\n",
              "    </tr>\n",
              "    <tr>\n",
              "      <th>50%</th>\n",
              "      <td>15.000000</td>\n",
              "      <td>0.000000</td>\n",
              "      <td>0.000000</td>\n",
              "      <td>35.100000</td>\n",
              "      <td>59.000000</td>\n",
              "      <td>NaN</td>\n",
              "      <td>1.008000e+03</td>\n",
              "      <td>0.000000</td>\n",
              "      <td>0.000000</td>\n",
              "      <td>27.000000</td>\n",
              "      <td>0.000000</td>\n",
              "      <td>0.00000</td>\n",
              "      <td>2.000000</td>\n",
              "      <td>160.000000</td>\n",
              "      <td>37.000000</td>\n",
              "      <td>6.100000</td>\n",
              "      <td>7.400000</td>\n",
              "    </tr>\n",
              "    <tr>\n",
              "      <th>75%</th>\n",
              "      <td>22.000000</td>\n",
              "      <td>0.000000</td>\n",
              "      <td>0.000000</td>\n",
              "      <td>39.200000</td>\n",
              "      <td>78.000000</td>\n",
              "      <td>NaN</td>\n",
              "      <td>1.014000e+03</td>\n",
              "      <td>0.000000</td>\n",
              "      <td>0.000000</td>\n",
              "      <td>32.000000</td>\n",
              "      <td>0.000000</td>\n",
              "      <td>0.00000</td>\n",
              "      <td>3.000000</td>\n",
              "      <td>270.000000</td>\n",
              "      <td>40.700000</td>\n",
              "      <td>6.800000</td>\n",
              "      <td>11.100000</td>\n",
              "    </tr>\n",
              "    <tr>\n",
              "      <th>max</th>\n",
              "      <td>75.000000</td>\n",
              "      <td>1.000000</td>\n",
              "      <td>1.000000</td>\n",
              "      <td>73.600000</td>\n",
              "      <td>243.000000</td>\n",
              "      <td>NaN</td>\n",
              "      <td>1.010614e+08</td>\n",
              "      <td>1.000000</td>\n",
              "      <td>1.000000</td>\n",
              "      <td>90.000000</td>\n",
              "      <td>1.000000</td>\n",
              "      <td>1.00000</td>\n",
              "      <td>6436.000000</td>\n",
              "      <td>960.000000</td>\n",
              "      <td>92.600000</td>\n",
              "      <td>7.300000</td>\n",
              "      <td>1514.900000</td>\n",
              "    </tr>\n",
              "  </tbody>\n",
              "</table>\n",
              "</div>"
            ],
            "text/plain": [
              "              dewptm            fog  ...  windchillm         wspdm\n",
              "count  100369.000000  100990.000000  ...  579.000000  98632.000000\n",
              "mean       15.741205       0.069690  ...    5.713817      7.678463\n",
              "std         7.058587       0.254625  ...    1.203290     11.932157\n",
              "min       -24.000000       0.000000  ...    2.100000      0.000000\n",
              "25%        10.000000       0.000000  ...    4.900000      0.000000\n",
              "50%        15.000000       0.000000  ...    6.100000      7.400000\n",
              "75%        22.000000       0.000000  ...    6.800000     11.100000\n",
              "max        75.000000       1.000000  ...    7.300000   1514.900000\n",
              "\n",
              "[8 rows x 17 columns]"
            ]
          },
          "metadata": {
            "tags": []
          },
          "execution_count": 9
        }
      ]
    },
    {
      "cell_type": "markdown",
      "metadata": {
        "id": "nccU6_-BdCSd"
      },
      "source": [
        "# **Data Visualization**"
      ]
    },
    {
      "cell_type": "code",
      "metadata": {
        "colab": {
          "base_uri": "https://localhost:8080/",
          "height": 416
        },
        "id": "1rC_ul4R95YW",
        "outputId": "98ef7998-5b37-4d12-f7fe-8e122b76a1f8"
      },
      "source": [
        "sns.distplot(df_weather['tempm'], bins=50)\n",
        "plt.show()"
      ],
      "execution_count": null,
      "outputs": [
        {
          "output_type": "stream",
          "text": [
            "/usr/local/lib/python3.7/dist-packages/seaborn/distributions.py:2557: FutureWarning: `distplot` is a deprecated function and will be removed in a future version. Please adapt your code to use either `displot` (a figure-level function with similar flexibility) or `histplot` (an axes-level function for histograms).\n",
            "  warnings.warn(msg, FutureWarning)\n"
          ],
          "name": "stderr"
        },
        {
          "output_type": "display_data",
          "data": {
            "image/png": "[encoded data removed]",
            "text/plain": [
              "<Figure size 576x396 with 1 Axes>"
            ]
          },
          "metadata": {
            "tags": []
          }
        }
      ]
    },
    {
      "cell_type": "code",
      "metadata": {
        "colab": {
          "base_uri": "https://localhost:8080/",
          "height": 234
        },
        "id": "uXX4buph-8HE",
        "outputId": "83821e42-c93e-4d27-9c30-477c70096fa0"
      },
      "source": [
        "bike=df_weather[['datetimeutc','tempm']].copy()\n",
        "bike['datetimeutc'] = pd.to_datetime(bike['datetimeutc'])\n",
        "\n",
        "bike.set_index('datetimeutc', inplace= True)\n",
        "bike.head()"
      ],
      "execution_count": null,
      "outputs": [
        {
          "output_type": "execute_result",
          "data": {
            "text/html": [
              "<div>\n",
              "<style scoped>\n",
              "    .dataframe tbody tr th:only-of-type {\n",
              "        vertical-align: middle;\n",
              "    }\n",
              "\n",
              "    .dataframe tbody tr th {\n",
              "        vertical-align: top;\n",
              "    }\n",
              "\n",
              "    .dataframe thead th {\n",
              "        text-align: right;\n",
              "    }\n",
              "</style>\n",
              "<table border=\"1\" class=\"dataframe\">\n",
              "  <thead>\n",
              "    <tr style=\"text-align: right;\">\n",
              "      <th></th>\n",
              "      <th>tempm</th>\n",
              "    </tr>\n",
              "    <tr>\n",
              "      <th>datetimeutc</th>\n",
              "      <th></th>\n",
              "    </tr>\n",
              "  </thead>\n",
              "  <tbody>\n",
              "    <tr>\n",
              "      <th>1996-11-01 11:00:00</th>\n",
              "      <td>30.0</td>\n",
              "    </tr>\n",
              "    <tr>\n",
              "      <th>1996-11-01 12:00:00</th>\n",
              "      <td>28.0</td>\n",
              "    </tr>\n",
              "    <tr>\n",
              "      <th>1996-11-01 13:00:00</th>\n",
              "      <td>24.0</td>\n",
              "    </tr>\n",
              "    <tr>\n",
              "      <th>1996-11-01 14:00:00</th>\n",
              "      <td>24.0</td>\n",
              "    </tr>\n",
              "    <tr>\n",
              "      <th>1996-11-01 16:00:00</th>\n",
              "      <td>23.0</td>\n",
              "    </tr>\n",
              "  </tbody>\n",
              "</table>\n",
              "</div>"
            ],
            "text/plain": [
              "                     tempm\n",
              "datetimeutc               \n",
              "1996-11-01 11:00:00   30.0\n",
              "1996-11-01 12:00:00   28.0\n",
              "1996-11-01 13:00:00   24.0\n",
              "1996-11-01 14:00:00   24.0\n",
              "1996-11-01 16:00:00   23.0"
            ]
          },
          "metadata": {
            "tags": []
          },
          "execution_count": 10
        }
      ]
    },
    {
      "cell_type": "code",
      "metadata": {
        "colab": {
          "base_uri": "https://localhost:8080/",
          "height": 512
        },
        "id": "EFlFFXfxR0_Y",
        "outputId": "3807a5d2-da85-46ac-cb90-d37925c6f785"
      },
      "source": [
        "plt.figure(figsize=(20,8))\n",
        "plt.plot(bike)\n",
        "plt.title('Bike Sharing')\n",
        "plt.xlabel('datetimeutc')\n",
        "plt.ylabel('Price')\n",
        "plt.show()"
      ],
      "execution_count": null,
      "outputs": [
        {
          "output_type": "display_data",
          "data": {
            "image/png": "[encoded data removed]",
            "text/plain": [
              "<Figure size 1440x576 with 1 Axes>"
            ]
          },
          "metadata": {
            "tags": []
          }
        }
      ]
    },
    {
      "cell_type": "markdown",
      "metadata": {
        "id": "6mhRbnyRWppJ"
      },
      "source": [
        "Dapat dilihat pada data terdapat outliers"
      ]
    },
    {
      "cell_type": "code",
      "metadata": {
        "colab": {
          "base_uri": "https://localhost:8080/",
          "height": 347
        },
        "id": "HJrIVodF8aiH",
        "outputId": "cba83ef3-18be-442b-fbfc-82d0a59170c1"
      },
      "source": [
        "sns.boxplot(data=df_weather[['datetimeutc', 'tempm']])\n",
        "plt.show()"
      ],
      "execution_count": null,
      "outputs": [
        {
          "output_type": "display_data",
          "data": {
            "image/png": "[encoded data removed]",
            "text/plain": [
              "<Figure size 576x396 with 1 Axes>"
            ]
          },
          "metadata": {
            "tags": []
          }
        }
      ]
    },
    {
      "cell_type": "markdown",
      "metadata": {
        "id": "c6imEcX4c_-T"
      },
      "source": [
        "# **Data Preprocessing**"
      ]
    },
    {
      "cell_type": "markdown",
      "metadata": {
        "id": "_qVGcWP_O1cN"
      },
      "source": [
        "Pada dataset, column yang diperlukan hanya `datetimeutc` dan `tempm`"
      ]
    },
    {
      "cell_type": "code",
      "metadata": {
        "colab": {
          "base_uri": "https://localhost:8080/",
          "height": 142
        },
        "id": "fbTsFFWXjfWz",
        "outputId": "82e7d39f-cbb0-4e06-d675-edb2a213e75e"
      },
      "source": [
        "df_weather.head(3)"
      ],
      "execution_count": null,
      "outputs": [
        {
          "output_type": "execute_result",
          "data": {
            "text/html": [
              "<div>\n",
              "<style scoped>\n",
              "    .dataframe tbody tr th:only-of-type {\n",
              "        vertical-align: middle;\n",
              "    }\n",
              "\n",
              "    .dataframe tbody tr th {\n",
              "        vertical-align: top;\n",
              "    }\n",
              "\n",
              "    .dataframe thead th {\n",
              "        text-align: right;\n",
              "    }\n",
              "</style>\n",
              "<table border=\"1\" class=\"dataframe\">\n",
              "  <thead>\n",
              "    <tr style=\"text-align: right;\">\n",
              "      <th></th>\n",
              "      <th>datetimeutc</th>\n",
              "      <th>conds</th>\n",
              "      <th>dewptm</th>\n",
              "      <th>fog</th>\n",
              "      <th>hail</th>\n",
              "      <th>heatindexm</th>\n",
              "      <th>hum</th>\n",
              "      <th>precipm</th>\n",
              "      <th>pressurem</th>\n",
              "      <th>rain</th>\n",
              "      <th>snow</th>\n",
              "      <th>tempm</th>\n",
              "      <th>thunder</th>\n",
              "      <th>tornado</th>\n",
              "      <th>vism</th>\n",
              "      <th>wdird</th>\n",
              "      <th>wdire</th>\n",
              "      <th>wgustm</th>\n",
              "      <th>windchillm</th>\n",
              "      <th>wspdm</th>\n",
              "    </tr>\n",
              "  </thead>\n",
              "  <tbody>\n",
              "    <tr>\n",
              "      <th>0</th>\n",
              "      <td>19961101-11:00</td>\n",
              "      <td>Smoke</td>\n",
              "      <td>9.0</td>\n",
              "      <td>0</td>\n",
              "      <td>0</td>\n",
              "      <td>NaN</td>\n",
              "      <td>27.0</td>\n",
              "      <td>NaN</td>\n",
              "      <td>1010.0</td>\n",
              "      <td>0</td>\n",
              "      <td>0</td>\n",
              "      <td>30.0</td>\n",
              "      <td>0</td>\n",
              "      <td>0</td>\n",
              "      <td>5.0</td>\n",
              "      <td>280.0</td>\n",
              "      <td>West</td>\n",
              "      <td>NaN</td>\n",
              "      <td>NaN</td>\n",
              "      <td>7.4</td>\n",
              "    </tr>\n",
              "    <tr>\n",
              "      <th>1</th>\n",
              "      <td>19961101-12:00</td>\n",
              "      <td>Smoke</td>\n",
              "      <td>10.0</td>\n",
              "      <td>0</td>\n",
              "      <td>0</td>\n",
              "      <td>NaN</td>\n",
              "      <td>32.0</td>\n",
              "      <td>NaN</td>\n",
              "      <td>-9999.0</td>\n",
              "      <td>0</td>\n",
              "      <td>0</td>\n",
              "      <td>28.0</td>\n",
              "      <td>0</td>\n",
              "      <td>0</td>\n",
              "      <td>NaN</td>\n",
              "      <td>0.0</td>\n",
              "      <td>North</td>\n",
              "      <td>NaN</td>\n",
              "      <td>NaN</td>\n",
              "      <td>NaN</td>\n",
              "    </tr>\n",
              "    <tr>\n",
              "      <th>2</th>\n",
              "      <td>19961101-13:00</td>\n",
              "      <td>Smoke</td>\n",
              "      <td>11.0</td>\n",
              "      <td>0</td>\n",
              "      <td>0</td>\n",
              "      <td>NaN</td>\n",
              "      <td>44.0</td>\n",
              "      <td>NaN</td>\n",
              "      <td>-9999.0</td>\n",
              "      <td>0</td>\n",
              "      <td>0</td>\n",
              "      <td>24.0</td>\n",
              "      <td>0</td>\n",
              "      <td>0</td>\n",
              "      <td>NaN</td>\n",
              "      <td>0.0</td>\n",
              "      <td>North</td>\n",
              "      <td>NaN</td>\n",
              "      <td>NaN</td>\n",
              "      <td>NaN</td>\n",
              "    </tr>\n",
              "  </tbody>\n",
              "</table>\n",
              "</div>"
            ],
            "text/plain": [
              "      datetimeutc  conds  dewptm  fog  ...  wdire  wgustm  windchillm  wspdm\n",
              "0  19961101-11:00  Smoke     9.0    0  ...   West     NaN         NaN    7.4\n",
              "1  19961101-12:00  Smoke    10.0    0  ...  North     NaN         NaN    NaN\n",
              "2  19961101-13:00  Smoke    11.0    0  ...  North     NaN         NaN    NaN\n",
              "\n",
              "[3 rows x 20 columns]"
            ]
          },
          "metadata": {
            "tags": []
          },
          "execution_count": 16
        }
      ]
    },
    {
      "cell_type": "code",
      "metadata": {
        "id": "9PtYtIzKO-JI"
      },
      "source": [
        "df_weather=df_weather[['datetimeutc', 'tempm']]"
      ],
      "execution_count": null,
      "outputs": []
    },
    {
      "cell_type": "code",
      "metadata": {
        "colab": {
          "base_uri": "https://localhost:8080/",
          "height": 203
        },
        "id": "YIzj09ISPdZp",
        "outputId": "30056284-21d6-45d5-eb04-3e69337c7153"
      },
      "source": [
        "df_weather.head()"
      ],
      "execution_count": null,
      "outputs": [
        {
          "output_type": "execute_result",
          "data": {
            "text/html": [
              "<div>\n",
              "<style scoped>\n",
              "    .dataframe tbody tr th:only-of-type {\n",
              "        vertical-align: middle;\n",
              "    }\n",
              "\n",
              "    .dataframe tbody tr th {\n",
              "        vertical-align: top;\n",
              "    }\n",
              "\n",
              "    .dataframe thead th {\n",
              "        text-align: right;\n",
              "    }\n",
              "</style>\n",
              "<table border=\"1\" class=\"dataframe\">\n",
              "  <thead>\n",
              "    <tr style=\"text-align: right;\">\n",
              "      <th></th>\n",
              "      <th>datetimeutc</th>\n",
              "      <th>tempm</th>\n",
              "    </tr>\n",
              "  </thead>\n",
              "  <tbody>\n",
              "    <tr>\n",
              "      <th>0</th>\n",
              "      <td>19961101-11:00</td>\n",
              "      <td>30.0</td>\n",
              "    </tr>\n",
              "    <tr>\n",
              "      <th>1</th>\n",
              "      <td>19961101-12:00</td>\n",
              "      <td>28.0</td>\n",
              "    </tr>\n",
              "    <tr>\n",
              "      <th>2</th>\n",
              "      <td>19961101-13:00</td>\n",
              "      <td>24.0</td>\n",
              "    </tr>\n",
              "    <tr>\n",
              "      <th>3</th>\n",
              "      <td>19961101-14:00</td>\n",
              "      <td>24.0</td>\n",
              "    </tr>\n",
              "    <tr>\n",
              "      <th>4</th>\n",
              "      <td>19961101-16:00</td>\n",
              "      <td>23.0</td>\n",
              "    </tr>\n",
              "  </tbody>\n",
              "</table>\n",
              "</div>"
            ],
            "text/plain": [
              "      datetimeutc  tempm\n",
              "0  19961101-11:00   30.0\n",
              "1  19961101-12:00   28.0\n",
              "2  19961101-13:00   24.0\n",
              "3  19961101-14:00   24.0\n",
              "4  19961101-16:00   23.0"
            ]
          },
          "metadata": {
            "tags": []
          },
          "execution_count": 18
        }
      ]
    },
    {
      "cell_type": "markdown",
      "metadata": {
        "id": "R8B--TMGPhNC"
      },
      "source": [
        "Mengubah format `datetimeutc`"
      ]
    },
    {
      "cell_type": "code",
      "metadata": {
        "colab": {
          "base_uri": "https://localhost:8080/",
          "height": 203
        },
        "id": "J1t2ebz3PreO",
        "outputId": "6d35e7a2-afcd-470e-fe73-1ce103ead3e1"
      },
      "source": [
        "df_weather['datetimeutc'] = pd.to_datetime(df_weather['datetimeutc']).dt.strftime('%Y-%m-%d %H:%M')\n",
        "df_weather.sort_values('datetimeutc', inplace=True, ignore_index=True)\n",
        "df_weather.head()"
      ],
      "execution_count": null,
      "outputs": [
        {
          "output_type": "execute_result",
          "data": {
            "text/html": [
              "<div>\n",
              "<style scoped>\n",
              "    .dataframe tbody tr th:only-of-type {\n",
              "        vertical-align: middle;\n",
              "    }\n",
              "\n",
              "    .dataframe tbody tr th {\n",
              "        vertical-align: top;\n",
              "    }\n",
              "\n",
              "    .dataframe thead th {\n",
              "        text-align: right;\n",
              "    }\n",
              "</style>\n",
              "<table border=\"1\" class=\"dataframe\">\n",
              "  <thead>\n",
              "    <tr style=\"text-align: right;\">\n",
              "      <th></th>\n",
              "      <th>datetimeutc</th>\n",
              "      <th>tempm</th>\n",
              "    </tr>\n",
              "  </thead>\n",
              "  <tbody>\n",
              "    <tr>\n",
              "      <th>0</th>\n",
              "      <td>1996-11-01 11:00</td>\n",
              "      <td>30.0</td>\n",
              "    </tr>\n",
              "    <tr>\n",
              "      <th>1</th>\n",
              "      <td>1996-11-01 12:00</td>\n",
              "      <td>28.0</td>\n",
              "    </tr>\n",
              "    <tr>\n",
              "      <th>2</th>\n",
              "      <td>1996-11-01 13:00</td>\n",
              "      <td>24.0</td>\n",
              "    </tr>\n",
              "    <tr>\n",
              "      <th>3</th>\n",
              "      <td>1996-11-01 14:00</td>\n",
              "      <td>24.0</td>\n",
              "    </tr>\n",
              "    <tr>\n",
              "      <th>4</th>\n",
              "      <td>1996-11-01 16:00</td>\n",
              "      <td>23.0</td>\n",
              "    </tr>\n",
              "  </tbody>\n",
              "</table>\n",
              "</div>"
            ],
            "text/plain": [
              "        datetimeutc  tempm\n",
              "0  1996-11-01 11:00   30.0\n",
              "1  1996-11-01 12:00   28.0\n",
              "2  1996-11-01 13:00   24.0\n",
              "3  1996-11-01 14:00   24.0\n",
              "4  1996-11-01 16:00   23.0"
            ]
          },
          "metadata": {
            "tags": []
          },
          "execution_count": 19
        }
      ]
    },
    {
      "cell_type": "markdown",
      "metadata": {
        "id": "lTGPeaWHl7-0"
      },
      "source": [
        "**Handling Missing Value**"
      ]
    },
    {
      "cell_type": "markdown",
      "metadata": {
        "id": "FRYo34aGnebN"
      },
      "source": [
        "Untuk mengefektifkan model dalam mempelajari data dilakukan cleaning data dari missing value."
      ]
    },
    {
      "cell_type": "markdown",
      "metadata": {
        "id": "oFQaEt_TXnUh"
      },
      "source": [
        "Dapat dilihat pada terdapat missing value pada tempm. Maka diputuskan untuk mengisi atau mengganti nilai nya dengan rata-rata dari tempm."
      ]
    },
    {
      "cell_type": "code",
      "metadata": {
        "colab": {
          "base_uri": "https://localhost:8080/"
        },
        "id": "FrTIBtLYCyTQ",
        "outputId": "c9965b87-cefd-401d-ca1c-727bfabae090"
      },
      "source": [
        "df_weather.isnull().any()"
      ],
      "execution_count": null,
      "outputs": [
        {
          "output_type": "execute_result",
          "data": {
            "text/plain": [
              "datetimeutc    False\n",
              "tempm           True\n",
              "dtype: bool"
            ]
          },
          "metadata": {
            "tags": []
          },
          "execution_count": 20
        }
      ]
    },
    {
      "cell_type": "code",
      "metadata": {
        "colab": {
          "base_uri": "https://localhost:8080/"
        },
        "id": "U6Bt13LxBmOB",
        "outputId": "b5cffdb4-467f-4fee-fde2-05aeb5ceef9c"
      },
      "source": [
        "df_weather.isna().any()"
      ],
      "execution_count": null,
      "outputs": [
        {
          "output_type": "execute_result",
          "data": {
            "text/plain": [
              "datetimeutc    False\n",
              "tempm           True\n",
              "dtype: bool"
            ]
          },
          "metadata": {
            "tags": []
          },
          "execution_count": 21
        }
      ]
    },
    {
      "cell_type": "code",
      "metadata": {
        "id": "s4wv8si8XzfN"
      },
      "source": [
        "df_weather['tempm'].fillna(df_weather['tempm'].mean(), inplace=True)"
      ],
      "execution_count": null,
      "outputs": []
    },
    {
      "cell_type": "markdown",
      "metadata": {
        "id": "P6SHdLkiP7JD"
      },
      "source": [
        "**Outlier Analysis**"
      ]
    },
    {
      "cell_type": "code",
      "metadata": {
        "colab": {
          "base_uri": "https://localhost:8080/",
          "height": 378
        },
        "id": "d93KeFpXuinV",
        "outputId": "e87d17e9-9893-420f-a3d7-c1f948443c12"
      },
      "source": [
        "sns.boxplot(x=df_weather['tempm'])"
      ],
      "execution_count": null,
      "outputs": [
        {
          "output_type": "execute_result",
          "data": {
            "text/plain": [
              "<matplotlib.axes._subplots.AxesSubplot at 0x7f76d90a6810>"
            ]
          },
          "metadata": {
            "tags": []
          },
          "execution_count": 24
        },
        {
          "output_type": "display_data",
          "data": {
            "image/png": "[encoded data removed]",
            "text/plain": [
              "<Figure size 576x396 with 1 Axes>"
            ]
          },
          "metadata": {
            "tags": []
          }
        }
      ]
    },
    {
      "cell_type": "markdown",
      "metadata": {
        "id": "738cAxDaw4y5"
      },
      "source": [
        "https://towardsdatascience.com/ways-to-detect-and-remove-the-outliers-404d16608dba"
      ]
    },
    {
      "cell_type": "code",
      "metadata": {
        "colab": {
          "base_uri": "https://localhost:8080/"
        },
        "id": "8S1xPDbNuinW",
        "outputId": "a2d03b2f-6a72-4a05-8ec8-6c7321bde1de"
      },
      "source": [
        "Q1 = df_weather.quantile(0.25)\n",
        "Q3 = df_weather.quantile(0.75)\n",
        "print(Q1)\n",
        "print(Q3)"
      ],
      "execution_count": null,
      "outputs": [
        {
          "output_type": "stream",
          "text": [
            "tempm    19.0\n",
            "Name: 0.25, dtype: float64\n",
            "tempm    32.0\n",
            "Name: 0.75, dtype: float64\n"
          ],
          "name": "stdout"
        }
      ]
    },
    {
      "cell_type": "code",
      "metadata": {
        "colab": {
          "base_uri": "https://localhost:8080/"
        },
        "id": "j4ixsJxbuinW",
        "outputId": "2b6f484f-811e-4b73-e222-c81729627a25"
      },
      "source": [
        "IQR = Q3 - Q1\n",
        "print(IQR)"
      ],
      "execution_count": null,
      "outputs": [
        {
          "output_type": "stream",
          "text": [
            "tempm    13.0\n",
            "dtype: float64\n"
          ],
          "name": "stdout"
        }
      ]
    },
    {
      "cell_type": "code",
      "metadata": {
        "colab": {
          "base_uri": "https://localhost:8080/",
          "height": 172
        },
        "id": "nKjUt7BXuinX",
        "outputId": "644cddae-fb0e-46da-a54b-b13e2424450d"
      },
      "source": [
        "outlier = (df_weather < (Q1-1.5*IQR)) | (df_weather > (Q3+1.5*IQR))\n",
        "pd.set_option('display.max_rows', outlier.shape[0]+1)\n",
        "outlier[outlier['tempm'] == True]"
      ],
      "execution_count": null,
      "outputs": [
        {
          "output_type": "execute_result",
          "data": {
            "text/html": [
              "<div>\n",
              "<style scoped>\n",
              "    .dataframe tbody tr th:only-of-type {\n",
              "        vertical-align: middle;\n",
              "    }\n",
              "\n",
              "    .dataframe tbody tr th {\n",
              "        vertical-align: top;\n",
              "    }\n",
              "\n",
              "    .dataframe thead th {\n",
              "        text-align: right;\n",
              "    }\n",
              "</style>\n",
              "<table border=\"1\" class=\"dataframe\">\n",
              "  <thead>\n",
              "    <tr style=\"text-align: right;\">\n",
              "      <th></th>\n",
              "      <th>datetimeutc</th>\n",
              "      <th>tempm</th>\n",
              "    </tr>\n",
              "  </thead>\n",
              "  <tbody>\n",
              "    <tr>\n",
              "      <th>11084</th>\n",
              "      <td>False</td>\n",
              "      <td>True</td>\n",
              "    </tr>\n",
              "    <tr>\n",
              "      <th>12951</th>\n",
              "      <td>False</td>\n",
              "      <td>True</td>\n",
              "    </tr>\n",
              "    <tr>\n",
              "      <th>68077</th>\n",
              "      <td>False</td>\n",
              "      <td>True</td>\n",
              "    </tr>\n",
              "    <tr>\n",
              "      <th>91391</th>\n",
              "      <td>False</td>\n",
              "      <td>True</td>\n",
              "    </tr>\n",
              "  </tbody>\n",
              "</table>\n",
              "</div>"
            ],
            "text/plain": [
              "       datetimeutc  tempm\n",
              "11084        False   True\n",
              "12951        False   True\n",
              "68077        False   True\n",
              "91391        False   True"
            ]
          },
          "metadata": {
            "tags": []
          },
          "execution_count": 35
        }
      ]
    },
    {
      "cell_type": "code",
      "metadata": {
        "colab": {
          "base_uri": "https://localhost:8080/"
        },
        "id": "o9_ZlZoMuinY",
        "outputId": "3fd8f010-b549-4012-de21-1a7db927dae5"
      },
      "source": [
        "df_weather_out = df_weather[~((df_weather < (Q1-1.5*IQR))|(df_weather>(Q3+1.5*IQR))).any(axis=1)]\n",
        "df_weather_out.shape"
      ],
      "execution_count": null,
      "outputs": [
        {
          "output_type": "execute_result",
          "data": {
            "text/plain": [
              "(100986, 2)"
            ]
          },
          "metadata": {
            "tags": []
          },
          "execution_count": 36
        }
      ]
    },
    {
      "cell_type": "markdown",
      "metadata": {
        "id": "JYMxIhVET8tN"
      },
      "source": [
        "**Scaling / Normalization**"
      ]
    },
    {
      "cell_type": "code",
      "metadata": {
        "id": "W7HbgasNlNuC"
      },
      "source": [
        "from sklearn.preprocessing import MinMaxScaler"
      ],
      "execution_count": null,
      "outputs": []
    },
    {
      "cell_type": "code",
      "metadata": {
        "id": "XS-0hyU1lWNv"
      },
      "source": [
        "mx = MinMaxScaler()"
      ],
      "execution_count": null,
      "outputs": []
    },
    {
      "cell_type": "code",
      "metadata": {
        "colab": {
          "base_uri": "https://localhost:8080/",
          "height": 203
        },
        "id": "3KtUu3GdlXrE",
        "outputId": "06ff2f0b-c415-4ba0-b9f8-84f2e3a42a0f"
      },
      "source": [
        "df_weather['tempm'] = mx.fit_transform(df_weather[['tempm']])\n",
        "df_weather.head()"
      ],
      "execution_count": null,
      "outputs": [
        {
          "output_type": "execute_result",
          "data": {
            "text/html": [
              "<div>\n",
              "<style scoped>\n",
              "    .dataframe tbody tr th:only-of-type {\n",
              "        vertical-align: middle;\n",
              "    }\n",
              "\n",
              "    .dataframe tbody tr th {\n",
              "        vertical-align: top;\n",
              "    }\n",
              "\n",
              "    .dataframe thead th {\n",
              "        text-align: right;\n",
              "    }\n",
              "</style>\n",
              "<table border=\"1\" class=\"dataframe\">\n",
              "  <thead>\n",
              "    <tr style=\"text-align: right;\">\n",
              "      <th></th>\n",
              "      <th>datetimeutc</th>\n",
              "      <th>tempm</th>\n",
              "    </tr>\n",
              "  </thead>\n",
              "  <tbody>\n",
              "    <tr>\n",
              "      <th>0</th>\n",
              "      <td>1996-11-01 11:00</td>\n",
              "      <td>0.325843</td>\n",
              "    </tr>\n",
              "    <tr>\n",
              "      <th>1</th>\n",
              "      <td>1996-11-01 12:00</td>\n",
              "      <td>0.303371</td>\n",
              "    </tr>\n",
              "    <tr>\n",
              "      <th>2</th>\n",
              "      <td>1996-11-01 13:00</td>\n",
              "      <td>0.258427</td>\n",
              "    </tr>\n",
              "    <tr>\n",
              "      <th>3</th>\n",
              "      <td>1996-11-01 14:00</td>\n",
              "      <td>0.258427</td>\n",
              "    </tr>\n",
              "    <tr>\n",
              "      <th>4</th>\n",
              "      <td>1996-11-01 16:00</td>\n",
              "      <td>0.247191</td>\n",
              "    </tr>\n",
              "  </tbody>\n",
              "</table>\n",
              "</div>"
            ],
            "text/plain": [
              "        datetimeutc     tempm\n",
              "0  1996-11-01 11:00  0.325843\n",
              "1  1996-11-01 12:00  0.303371\n",
              "2  1996-11-01 13:00  0.258427\n",
              "3  1996-11-01 14:00  0.258427\n",
              "4  1996-11-01 16:00  0.247191"
            ]
          },
          "metadata": {
            "tags": []
          },
          "execution_count": 39
        }
      ]
    },
    {
      "cell_type": "markdown",
      "metadata": {
        "id": "aElWKRqSonph"
      },
      "source": [
        "**Split Data**"
      ]
    },
    {
      "cell_type": "markdown",
      "metadata": {
        "id": "Y5zSvaCbpiJK"
      },
      "source": [
        "Selanjutnya dilakukan ektraksi data.\n",
        "\n",
        "Maka kita tinggal mengektraksi label dan featuresnya\n",
        "\n",
        "Prepare Feature and Label\n",
        "\n",
        "* `feature` data set biasa disebut independent data set (X), yakni columns\n",
        "\n",
        "* `target` data set also known as the dependent data set (Y)\n",
        "\n",
        "Kemudian selanjutnya akan di split antara data training dan data testing"
      ]
    },
    {
      "cell_type": "code",
      "metadata": {
        "id": "fFePkTgmWvoH"
      },
      "source": [
        "dates = df_weather['datetimeutc'].values\n",
        "weather = df_weather['tempm'].values"
      ],
      "execution_count": null,
      "outputs": []
    },
    {
      "cell_type": "code",
      "metadata": {
        "colab": {
          "base_uri": "https://localhost:8080/"
        },
        "id": "XOHktae229ad",
        "outputId": "78b11d05-8ed7-43ec-ae92-01dcba4b49c6"
      },
      "source": [
        "dates"
      ],
      "execution_count": null,
      "outputs": [
        {
          "output_type": "execute_result",
          "data": {
            "text/plain": [
              "array(['1996-11-01 11:00', '1996-11-01 12:00', '1996-11-01 13:00', ...,\n",
              "       '2017-04-24 12:00', '2017-04-24 15:00', '2017-04-24 18:00'],\n",
              "      dtype=object)"
            ]
          },
          "metadata": {
            "tags": []
          },
          "execution_count": 41
        }
      ]
    },
    {
      "cell_type": "code",
      "metadata": {
        "colab": {
          "base_uri": "https://localhost:8080/"
        },
        "id": "Dev7W2BH2-VR",
        "outputId": "6d41f197-7eec-4ae9-8f39-928382eb4d86"
      },
      "source": [
        "weather"
      ],
      "execution_count": null,
      "outputs": [
        {
          "output_type": "execute_result",
          "data": {
            "text/plain": [
              "array([0.3258427 , 0.30337079, 0.25842697, ..., 0.39325843, 0.34831461,\n",
              "       0.3258427 ])"
            ]
          },
          "metadata": {
            "tags": []
          },
          "execution_count": 42
        }
      ]
    },
    {
      "cell_type": "markdown",
      "metadata": {
        "id": "wBr-SmSbWEMo"
      },
      "source": [
        "Lalu, bagi data untuk training dan data untuk testing, dengan presentasi 80% Training set dan 20% Validation set."
      ]
    },
    {
      "cell_type": "code",
      "metadata": {
        "id": "eNLQIIkKWGeB"
      },
      "source": [
        "from sklearn.model_selection import train_test_split\n",
        "\n",
        "x_train, x_test, y_train, y_test = train_test_split(dates, weather, test_size = 0.2, random_state = 0 , shuffle=False)"
      ],
      "execution_count": null,
      "outputs": []
    },
    {
      "cell_type": "code",
      "metadata": {
        "colab": {
          "base_uri": "https://localhost:8080/"
        },
        "id": "v4QLiXEpYQi6",
        "outputId": "cb64111d-b7ca-40a8-ae8e-b2ebed8435d4"
      },
      "source": [
        "print(len(x_train), len(x_test))"
      ],
      "execution_count": null,
      "outputs": [
        {
          "output_type": "stream",
          "text": [
            "80792 20198\n"
          ],
          "name": "stdout"
        }
      ]
    },
    {
      "cell_type": "code",
      "metadata": {
        "colab": {
          "base_uri": "https://localhost:8080/"
        },
        "id": "lMHhU9Kwi81h",
        "outputId": "aecc4d00-75a8-40b7-889c-330c19a2dda7"
      },
      "source": [
        "x_train.shape"
      ],
      "execution_count": null,
      "outputs": [
        {
          "output_type": "execute_result",
          "data": {
            "text/plain": [
              "(80792,)"
            ]
          },
          "metadata": {
            "tags": []
          },
          "execution_count": 45
        }
      ]
    },
    {
      "cell_type": "code",
      "metadata": {
        "colab": {
          "base_uri": "https://localhost:8080/"
        },
        "id": "BtzsLgP9Cc9t",
        "outputId": "507e8b24-81c8-45f4-beb8-1537efb2f258"
      },
      "source": [
        "x_train"
      ],
      "execution_count": null,
      "outputs": [
        {
          "output_type": "execute_result",
          "data": {
            "text/plain": [
              "array(['1996-11-01 11:00', '1996-11-01 12:00', '1996-11-01 13:00', ...,\n",
              "       '2011-06-25 18:00', '2011-06-25 21:00', '2011-06-26 00:00'],\n",
              "      dtype=object)"
            ]
          },
          "metadata": {
            "tags": []
          },
          "execution_count": 46
        }
      ]
    },
    {
      "cell_type": "markdown",
      "metadata": {
        "id": "SMfblyHF410x"
      },
      "source": [
        "**Windowed**"
      ]
    },
    {
      "cell_type": "code",
      "metadata": {
        "id": "vj4HRzyH44Ej"
      },
      "source": [
        "import tensorflow as tf\n",
        "\n",
        "def windowed_dataset(series, window_size, batch_size, shuffle_buffer):\n",
        "    series = tf.expand_dims(series, axis=-1)\n",
        "    ds = tf.data.Dataset.from_tensor_slices(series)\n",
        "    ds = ds.window(window_size + 1, shift=1, drop_remainder=True)\n",
        "    ds = ds.flat_map(lambda w: w.batch(window_size + 1))\n",
        "    ds = ds.shuffle(shuffle_buffer)\n",
        "    ds = ds.map(lambda w: (w[:-1], w[-1:]))\n",
        "    return ds.batch(batch_size).prefetch(1)"
      ],
      "execution_count": null,
      "outputs": []
    },
    {
      "cell_type": "code",
      "metadata": {
        "id": "nirY6jUW5IvQ"
      },
      "source": [
        "data_x_train = windowed_dataset(y_train, window_size=60, batch_size=100, shuffle_buffer=5000)\n",
        "data_x_test = windowed_dataset(y_test, window_size=60, batch_size=100, shuffle_buffer=5000)"
      ],
      "execution_count": null,
      "outputs": []
    },
    {
      "cell_type": "markdown",
      "metadata": {
        "id": "_bYwnEDudeuC"
      },
      "source": [
        "# **Data Modelling**"
      ]
    },
    {
      "cell_type": "code",
      "metadata": {
        "id": "Ei7q9C8JL2Tn"
      },
      "source": [
        "from keras.layers import Dense, LSTM\n",
        "model = tf.keras.models.Sequential([\n",
        "  tf.keras.layers.Conv1D(32, 5, padding='causal', activation='relu', input_shape=[None, 1]),\n",
        "  tf.keras.layers.LSTM(64, return_sequences=True),\n",
        "  tf.keras.layers.LSTM(64),\n",
        "  tf.keras.layers.Dense(30, activation=\"relu\"),\n",
        "  tf.keras.layers.Dense(10, activation=\"relu\"),\n",
        "  tf.keras.layers.Dense(1),\n",
        "])"
      ],
      "execution_count": null,
      "outputs": []
    },
    {
      "cell_type": "markdown",
      "metadata": {
        "id": "-kL2-lIBqt0V"
      },
      "source": [
        "Selanjutnya kita buat kelas callback. fungsi yang paling penting yaitu `on_epoch_end()`. Fungsi inilah yang akan kita gunakan untuk memberitahu model agar berhenti melakukan pelatihan ketika telah mencapai target.\n",
        "\n",
        "Kode `self.model.stop_training = True` adalah kode yang memberi tahu model untuk menghentikan pelatihan."
      ]
    },
    {
      "cell_type": "markdown",
      "metadata": {
        "id": "XTGqye8PiVMi"
      },
      "source": [
        "Dengan memilih 10% dari scala data, pada mse"
      ]
    },
    {
      "cell_type": "code",
      "metadata": {
        "colab": {
          "base_uri": "https://localhost:8080/"
        },
        "id": "bd8H7DxKgC3n",
        "outputId": "aae3199a-a86e-43ad-cf9e-5099bd8218e6"
      },
      "source": [
        "max = df_weather['tempm'].max()\n",
        "print('Max value : ' )\n",
        "print(max)"
      ],
      "execution_count": null,
      "outputs": [
        {
          "output_type": "stream",
          "text": [
            "Max value : \n",
            "1.0\n"
          ],
          "name": "stdout"
        }
      ]
    },
    {
      "cell_type": "code",
      "metadata": {
        "colab": {
          "base_uri": "https://localhost:8080/"
        },
        "id": "QAwI7QEYgCv4",
        "outputId": "5d1e4511-2ba7-40ed-cbbb-d2873bfec880"
      },
      "source": [
        "min = df_weather['tempm'].min()\n",
        "print('Min Value : ')\n",
        "print(min)"
      ],
      "execution_count": null,
      "outputs": [
        {
          "output_type": "stream",
          "text": [
            "Min Value : \n",
            "0.0\n"
          ],
          "name": "stdout"
        }
      ]
    },
    {
      "cell_type": "code",
      "metadata": {
        "colab": {
          "base_uri": "https://localhost:8080/"
        },
        "id": "bYAYVO_sgCkl",
        "outputId": "e56c2d5e-9108-4b6a-96dc-63ea36858888"
      },
      "source": [
        "x = (max - min) * 0.1\n",
        "print(x)"
      ],
      "execution_count": null,
      "outputs": [
        {
          "output_type": "stream",
          "text": [
            "0.1\n"
          ],
          "name": "stdout"
        }
      ]
    },
    {
      "cell_type": "code",
      "metadata": {
        "id": "pyZUNQ_PramS"
      },
      "source": [
        "class myCallback(tf.keras.callbacks.Callback):\n",
        "  def on_epoch_end(self, epoch, logs={}):\n",
        "    if(logs.get('mae') < x and logs.get('val_mae') < x):\n",
        "      self.model.stop_training = True\n",
        "      print(\"\\nMAE of the model < 10% of data scale\")\n",
        "callbacks = myCallback()"
      ],
      "execution_count": null,
      "outputs": []
    },
    {
      "cell_type": "markdown",
      "metadata": {
        "id": "VJAmfODxWYfV"
      },
      "source": [
        "Terakhir kita dapat mulai melatih model kita dengan memanggil fungsi fit()."
      ]
    },
    {
      "cell_type": "code",
      "metadata": {
        "id": "CFOs57sJG2OW",
        "colab": {
          "base_uri": "https://localhost:8080/"
        },
        "outputId": "bb121fbd-7b23-4c16-f7a9-83cf4e0d7f57"
      },
      "source": [
        "optimizer = tf.keras.optimizers.SGD(lr=1.0000e-04, momentum=0.9)\n",
        "model.compile(loss=tf.keras.losses.Huber(),\n",
        "              optimizer=optimizer,\n",
        "              metrics=[\"mae\"])"
      ],
      "execution_count": null,
      "outputs": [
        {
          "output_type": "stream",
          "text": [
            "/usr/local/lib/python3.7/dist-packages/tensorflow/python/keras/optimizer_v2/optimizer_v2.py:375: UserWarning: The `lr` argument is deprecated, use `learning_rate` instead.\n",
            "  \"The `lr` argument is deprecated, use `learning_rate` instead.\")\n"
          ],
          "name": "stderr"
        }
      ]
    },
    {
      "cell_type": "code",
      "metadata": {
        "colab": {
          "base_uri": "https://localhost:8080/"
        },
        "id": "V7AACLeAG3vh",
        "outputId": "319a1a82-4fbc-41af-f3ce-901b62c645bc"
      },
      "source": [
        "history = model.fit(\n",
        "    data_x_train,\n",
        "    epochs=100,  \n",
        "    validation_data=(data_x_test), \n",
        "    verbose=2, \n",
        "    callbacks=[callbacks]\n",
        ")"
      ],
      "execution_count": null,
      "outputs": [
        {
          "output_type": "stream",
          "text": [
            "Epoch 1/100\n",
            "808/808 - 114s - loss: 0.0115 - mae: 0.1248 - val_loss: 0.0039 - val_mae: 0.0745\n",
            "Epoch 2/100\n",
            "808/808 - 109s - loss: 0.0039 - mae: 0.0734 - val_loss: 0.0037 - val_mae: 0.0712\n",
            "\n",
            "MAE of the model < 10% of data scale\n"
          ],
          "name": "stdout"
        }
      ]
    },
    {
      "cell_type": "markdown",
      "metadata": {
        "id": "T4mUxNujwmv5"
      },
      "source": [
        "**Plot Loss dan MAE**"
      ]
    },
    {
      "cell_type": "code",
      "metadata": {
        "id": "KH1fz8TH5MlJ",
        "colab": {
          "base_uri": "https://localhost:8080/",
          "height": 376
        },
        "outputId": "a3b97b1f-398b-47a8-85ec-8935ec1797fb"
      },
      "source": [
        "import matplotlib.pyplot as plt\n",
        "plt.plot(history.history['mae'])\n",
        "plt.plot(history.history['val_mae'])\n",
        "plt.title('MAE')\n",
        "plt.ylabel('mae')\n",
        "plt.xlabel('epoch')\n",
        "plt.legend(['train', 'test'], loc='upper left')\n",
        "plt.show()"
      ],
      "execution_count": null,
      "outputs": [
        {
          "output_type": "display_data",
          "data": {
            "image/png": "[encoded data removed]",
            "text/plain": [
              "<Figure size 576x396 with 1 Axes>"
            ]
          },
          "metadata": {
            "tags": []
          }
        }
      ]
    },
    {
      "cell_type": "code",
      "metadata": {
        "id": "JZquzmX88DY_",
        "colab": {
          "base_uri": "https://localhost:8080/",
          "height": 376
        },
        "outputId": "6dd927fc-2c00-448b-df33-5b19fafd571b"
      },
      "source": [
        "plt.plot(history.history['loss'])\n",
        "plt.plot(history.history['val_loss'])\n",
        "plt.title('Loss Model')\n",
        "plt.ylabel('loss')\n",
        "plt.xlabel('epoch')\n",
        "plt.legend(['train', 'test'], loc='upper left')\n",
        "plt.show()"
      ],
      "execution_count": null,
      "outputs": [
        {
          "output_type": "display_data",
          "data": {
            "image/png": "[encoded data removed]",
            "text/plain": [
              "<Figure size 576x396 with 1 Axes>"
            ]
          },
          "metadata": {
            "tags": []
          }
        }
      ]
    },
    {
      "cell_type": "code",
      "metadata": {
        "id": "yJLWPJ3kvYH6"
      },
      "source": [
        "train_predict = model.predict(data_x_train)\n",
        "test_predict = model.predict(data_x_test)"
      ],
      "execution_count": null,
      "outputs": []
    },
    {
      "cell_type": "markdown",
      "metadata": {
        "id": "8fQhlKiixX7T"
      },
      "source": [
        "https://www.inblog.in/Stock-Market-Prediction-And-Forecasting-Using-Stacked-LSTM-fyCUr1wyAO"
      ]
    },
    {
      "cell_type": "code",
      "metadata": {
        "id": "uDHB50Snuc7V"
      },
      "source": [
        "# look_back=4\n",
        "# trainPredictPlot = np.empty_like(df_weather)\n",
        "# trainPredictPlot[:, :] = np.nan\n",
        "# trainPredictPlot[look_back:len(train_predict)+look_back, :] = train_predict\n",
        "# # Shift test predictions for plotting\n",
        "# testPredictPlot = np.empty_like(df_weather)\n",
        "# testPredictPlot[:, :] = np.nan\n",
        "# testPredictPlot[len(test_predict)+(look_back*2)+1:len(df_weather)-1, :] = test_predict\n",
        "# # Plot baseline and predictions\n",
        "# plt.xlabel(\"Date\")\n",
        "# plt.ylabel(\"Temperature\")\n",
        "# plt.title(\"X\")\n",
        "# plt.plot(scaler.inverse_transform(df_weather))\n",
        "# plt.plot(testPredictPlot)\n",
        "# plt.show()"
      ],
      "execution_count": null,
      "outputs": []
    },
    {
      "cell_type": "code",
      "metadata": {
        "id": "9g0jgWb3wp2g"
      },
      "source": [
        ""
      ],
      "execution_count": null,
      "outputs": []
    }
  ]
}