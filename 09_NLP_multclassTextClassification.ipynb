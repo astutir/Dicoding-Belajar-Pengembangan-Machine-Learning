{
  "nbformat": 4,
  "nbformat_minor": 0,
  "metadata": {
    "colab": {
      "name": "09_NLP_multclassTextClassification.ipynb",
      "provenance": [],
      "collapsed_sections": []
    },
    "kernelspec": {
      "name": "python3",
      "display_name": "Python 3"
    }
  },
  "cells": [
    {
      "cell_type": "markdown",
      "metadata": {
        "id": "view-in-github"
      },
      "source": [
        "<a href=\"https://colab.research.google.com/github/nurimammasri/Dicoding-Belajar-Pengembangan-Machine-Learning/blob/main/09_NLP_multclassTextClassification.ipynb\" target=\"_parent\"><img src=\"https://colab.research.google.com/assets/colab-badge.svg\" alt=\"Open In Colab\"/></a>"
      ]
    },
    {
      "cell_type": "code",
      "metadata": {
        "id": "NPxXCgt7uJFb"
      },
      "source": [
        "# from google.colab import files\n",
        "# uploaded = files.upload()"
      ],
      "execution_count": 1,
      "outputs": []
    },
    {
      "cell_type": "code",
      "metadata": {
        "id": "WNO--SgStVfD"
      },
      "source": [
        "import pandas as pd\n",
        "# imdb_indonesian_movies_2.csv\n",
        "# df = pd.read_csv('imdb_indonesian_movies_2.csv')\n",
        "df = pd.read_csv('https://raw.githubusercontent.com/nurimammasri/Dicoding-Belajar-Pengembangan-Machine-Learning/main/data/imdb_indonesian_movies_2.csv')\n",
        "df = df.drop(columns = ['judul_film'])"
      ],
      "execution_count": 2,
      "outputs": []
    },
    {
      "cell_type": "code",
      "metadata": {
        "id": "DDfvTmxduWDP",
        "colab": {
          "base_uri": "https://localhost:8080/",
          "height": 203
        },
        "outputId": "dcbbf67c-ef89-41a0-f543-65f8bbad5d03"
      },
      "source": [
        "df.head()"
      ],
      "execution_count": 3,
      "outputs": [
        {
          "output_type": "execute_result",
          "data": {
            "text/html": [
              "<div>\n",
              "<style scoped>\n",
              "    .dataframe tbody tr th:only-of-type {\n",
              "        vertical-align: middle;\n",
              "    }\n",
              "\n",
              "    .dataframe tbody tr th {\n",
              "        vertical-align: top;\n",
              "    }\n",
              "\n",
              "    .dataframe thead th {\n",
              "        text-align: right;\n",
              "    }\n",
              "</style>\n",
              "<table border=\"1\" class=\"dataframe\">\n",
              "  <thead>\n",
              "    <tr style=\"text-align: right;\">\n",
              "      <th></th>\n",
              "      <th>ringkasan_sinopsis</th>\n",
              "      <th>genre</th>\n",
              "    </tr>\n",
              "  </thead>\n",
              "  <tbody>\n",
              "    <tr>\n",
              "      <th>0</th>\n",
              "      <td>Raden Mas Said putra sulung Tumenggung Wilarik...</td>\n",
              "      <td>Drama</td>\n",
              "    </tr>\n",
              "    <tr>\n",
              "      <th>1</th>\n",
              "      <td>Soe Hok Gie adalah seorang aktivis yang hidup ...</td>\n",
              "      <td>Drama</td>\n",
              "    </tr>\n",
              "    <tr>\n",
              "      <th>2</th>\n",
              "      <td>Guru Bangsa Tjokroaminoto menceritakan tentang...</td>\n",
              "      <td>Drama</td>\n",
              "    </tr>\n",
              "    <tr>\n",
              "      <th>3</th>\n",
              "      <td>POL menceritakan kisah hidup yang luar biasa d...</td>\n",
              "      <td>Drama</td>\n",
              "    </tr>\n",
              "    <tr>\n",
              "      <th>4</th>\n",
              "      <td>Perjalanan pahlawan Indonesia KH Ahmad Dahlan ...</td>\n",
              "      <td>Drama</td>\n",
              "    </tr>\n",
              "  </tbody>\n",
              "</table>\n",
              "</div>"
            ],
            "text/plain": [
              "                                  ringkasan_sinopsis  genre\n",
              "0  Raden Mas Said putra sulung Tumenggung Wilarik...  Drama\n",
              "1  Soe Hok Gie adalah seorang aktivis yang hidup ...  Drama\n",
              "2  Guru Bangsa Tjokroaminoto menceritakan tentang...  Drama\n",
              "3  POL menceritakan kisah hidup yang luar biasa d...  Drama\n",
              "4  Perjalanan pahlawan Indonesia KH Ahmad Dahlan ...  Drama"
            ]
          },
          "metadata": {},
          "execution_count": 3
        }
      ]
    },
    {
      "cell_type": "markdown",
      "metadata": {
        "id": "5e6gSw2CudCr"
      },
      "source": [
        "Melakukan proses one-hot-encoding karena dataset nya berupa kategorikal."
      ]
    },
    {
      "cell_type": "code",
      "metadata": {
        "id": "jv0IRVJouVha",
        "colab": {
          "base_uri": "https://localhost:8080/",
          "height": 534
        },
        "outputId": "98a77ce2-4c5b-448f-ff95-33350a14a879"
      },
      "source": [
        "category = pd.get_dummies(df.genre)\n",
        "df_baru = pd.concat([df, category], axis = 1)\n",
        "df_baru = df_baru.drop(columns = 'genre')\n",
        "df_baru"
      ],
      "execution_count": 4,
      "outputs": [
        {
          "output_type": "execute_result",
          "data": {
            "text/html": [
              "<div>\n",
              "<style scoped>\n",
              "    .dataframe tbody tr th:only-of-type {\n",
              "        vertical-align: middle;\n",
              "    }\n",
              "\n",
              "    .dataframe tbody tr th {\n",
              "        vertical-align: top;\n",
              "    }\n",
              "\n",
              "    .dataframe thead th {\n",
              "        text-align: right;\n",
              "    }\n",
              "</style>\n",
              "<table border=\"1\" class=\"dataframe\">\n",
              "  <thead>\n",
              "    <tr style=\"text-align: right;\">\n",
              "      <th></th>\n",
              "      <th>ringkasan_sinopsis</th>\n",
              "      <th>Drama</th>\n",
              "      <th>Horor</th>\n",
              "      <th>Komedi</th>\n",
              "      <th>Laga</th>\n",
              "      <th>Romantis</th>\n",
              "    </tr>\n",
              "  </thead>\n",
              "  <tbody>\n",
              "    <tr>\n",
              "      <th>0</th>\n",
              "      <td>Raden Mas Said putra sulung Tumenggung Wilarik...</td>\n",
              "      <td>1</td>\n",
              "      <td>0</td>\n",
              "      <td>0</td>\n",
              "      <td>0</td>\n",
              "      <td>0</td>\n",
              "    </tr>\n",
              "    <tr>\n",
              "      <th>1</th>\n",
              "      <td>Soe Hok Gie adalah seorang aktivis yang hidup ...</td>\n",
              "      <td>1</td>\n",
              "      <td>0</td>\n",
              "      <td>0</td>\n",
              "      <td>0</td>\n",
              "      <td>0</td>\n",
              "    </tr>\n",
              "    <tr>\n",
              "      <th>2</th>\n",
              "      <td>Guru Bangsa Tjokroaminoto menceritakan tentang...</td>\n",
              "      <td>1</td>\n",
              "      <td>0</td>\n",
              "      <td>0</td>\n",
              "      <td>0</td>\n",
              "      <td>0</td>\n",
              "    </tr>\n",
              "    <tr>\n",
              "      <th>3</th>\n",
              "      <td>POL menceritakan kisah hidup yang luar biasa d...</td>\n",
              "      <td>1</td>\n",
              "      <td>0</td>\n",
              "      <td>0</td>\n",
              "      <td>0</td>\n",
              "      <td>0</td>\n",
              "    </tr>\n",
              "    <tr>\n",
              "      <th>4</th>\n",
              "      <td>Perjalanan pahlawan Indonesia KH Ahmad Dahlan ...</td>\n",
              "      <td>1</td>\n",
              "      <td>0</td>\n",
              "      <td>0</td>\n",
              "      <td>0</td>\n",
              "      <td>0</td>\n",
              "    </tr>\n",
              "    <tr>\n",
              "      <th>...</th>\n",
              "      <td>...</td>\n",
              "      <td>...</td>\n",
              "      <td>...</td>\n",
              "      <td>...</td>\n",
              "      <td>...</td>\n",
              "      <td>...</td>\n",
              "    </tr>\n",
              "    <tr>\n",
              "      <th>1000</th>\n",
              "      <td>Winter in Tokyo berpusat pada kehidupan Ishida...</td>\n",
              "      <td>0</td>\n",
              "      <td>0</td>\n",
              "      <td>0</td>\n",
              "      <td>0</td>\n",
              "      <td>1</td>\n",
              "    </tr>\n",
              "    <tr>\n",
              "      <th>1001</th>\n",
              "      <td>Markonah melarikan diri ke Jakarta karena akan...</td>\n",
              "      <td>0</td>\n",
              "      <td>0</td>\n",
              "      <td>0</td>\n",
              "      <td>0</td>\n",
              "      <td>1</td>\n",
              "    </tr>\n",
              "    <tr>\n",
              "      <th>1002</th>\n",
              "      <td>Tempat aking lebih dari 36 jam, Last Night ada...</td>\n",
              "      <td>0</td>\n",
              "      <td>0</td>\n",
              "      <td>0</td>\n",
              "      <td>0</td>\n",
              "      <td>1</td>\n",
              "    </tr>\n",
              "    <tr>\n",
              "      <th>1003</th>\n",
              "      <td>Proyek baru ini adalah tentang seorang lelaki ...</td>\n",
              "      <td>0</td>\n",
              "      <td>0</td>\n",
              "      <td>0</td>\n",
              "      <td>0</td>\n",
              "      <td>1</td>\n",
              "    </tr>\n",
              "    <tr>\n",
              "      <th>1004</th>\n",
              "      <td>Atika (Meriam Bellina) mantan penyanyi tenar, ...</td>\n",
              "      <td>0</td>\n",
              "      <td>0</td>\n",
              "      <td>0</td>\n",
              "      <td>0</td>\n",
              "      <td>1</td>\n",
              "    </tr>\n",
              "  </tbody>\n",
              "</table>\n",
              "<p>1005 rows × 6 columns</p>\n",
              "</div>"
            ],
            "text/plain": [
              "                                     ringkasan_sinopsis  Drama  ...  Laga  Romantis\n",
              "0     Raden Mas Said putra sulung Tumenggung Wilarik...      1  ...     0         0\n",
              "1     Soe Hok Gie adalah seorang aktivis yang hidup ...      1  ...     0         0\n",
              "2     Guru Bangsa Tjokroaminoto menceritakan tentang...      1  ...     0         0\n",
              "3     POL menceritakan kisah hidup yang luar biasa d...      1  ...     0         0\n",
              "4     Perjalanan pahlawan Indonesia KH Ahmad Dahlan ...      1  ...     0         0\n",
              "...                                                 ...    ...  ...   ...       ...\n",
              "1000  Winter in Tokyo berpusat pada kehidupan Ishida...      0  ...     0         1\n",
              "1001  Markonah melarikan diri ke Jakarta karena akan...      0  ...     0         1\n",
              "1002  Tempat aking lebih dari 36 jam, Last Night ada...      0  ...     0         1\n",
              "1003  Proyek baru ini adalah tentang seorang lelaki ...      0  ...     0         1\n",
              "1004  Atika (Meriam Bellina) mantan penyanyi tenar, ...      0  ...     0         1\n",
              "\n",
              "[1005 rows x 6 columns]"
            ]
          },
          "metadata": {},
          "execution_count": 4
        }
      ]
    },
    {
      "cell_type": "markdown",
      "metadata": {
        "id": "3MeMWJPOu54w"
      },
      "source": [
        "Agar dapat diproses oleh model, kita perlu mengubah nilai-nilai dari dataframe ke dalam tipe data numpy array menggunakan atribut values."
      ]
    },
    {
      "cell_type": "code",
      "metadata": {
        "id": "zcNhmjZVu1BS"
      },
      "source": [
        "sinposis = df_baru['ringkasan_sinopsis'].values\n",
        "label = df_baru[['Drama', 'Horor', 'Komedi', 'Laga', 'Romantis']].values"
      ],
      "execution_count": 5,
      "outputs": []
    },
    {
      "cell_type": "markdown",
      "metadata": {
        "id": "ImHzkwcQwMJx"
      },
      "source": [
        "Pembagian dataset menjadi Train dan Test"
      ]
    },
    {
      "cell_type": "code",
      "metadata": {
        "id": "bO7hoy8gvLcR"
      },
      "source": [
        "from sklearn.model_selection import train_test_split\n",
        "sinopsis_latih, sinopsis_test, label_latih, label_test = train_test_split(sinposis, label, test_size = 0.2)"
      ],
      "execution_count": 6,
      "outputs": []
    },
    {
      "cell_type": "markdown",
      "metadata": {
        "id": "_wHr50T0wPbh"
      },
      "source": [
        "Tokenisasi"
      ]
    },
    {
      "cell_type": "code",
      "metadata": {
        "id": "eOGxh-kbvcah"
      },
      "source": [
        "from tensorflow.keras.preprocessing.text import Tokenizer\n",
        "from tensorflow.keras.preprocessing.sequence import pad_sequences\n",
        "\n",
        "tokenizer = Tokenizer(num_words = 5000, oov_token = 'x')\n",
        "tokenizer.fit_on_texts(sinopsis_latih)\n",
        "tokenizer.fit_on_texts(sinopsis_test)\n",
        "\n",
        "sekuens_latih = tokenizer.texts_to_sequences(sinopsis_latih)\n",
        "sekuens_test = tokenizer.texts_to_sequences(sinopsis_test)\n",
        "\n",
        "padded_latih = pad_sequences(sekuens_latih)\n",
        "padded_test = pad_sequences(sekuens_test)"
      ],
      "execution_count": 7,
      "outputs": []
    },
    {
      "cell_type": "markdown",
      "metadata": {
        "id": "LYErBaxSwGyB"
      },
      "source": [
        "Untuk arsitektur model kita menggunakan layer Embedding dengan dimensi embedding sebesar 16, serta dimensi dari input sebesar nilai num_words pada objek tokenizer. "
      ]
    },
    {
      "cell_type": "code",
      "metadata": {
        "id": "4EZgwk-iwFNZ"
      },
      "source": [
        "import tensorflow as tf\n",
        "model = tf.keras.Sequential([\n",
        "    tf.keras.layers.Embedding(input_dim = 5000, output_dim = 16),\n",
        "    tf.keras.layers.LSTM(64),\n",
        "    tf.keras.layers.Dense(128, activation = 'relu'),\n",
        "    tf.keras.layers.Dense(64, activation = 'relu'),\n",
        "    tf.keras.layers.Dense(5, activation = 'softmax')\n",
        "])\n",
        "model.compile(\n",
        "    loss = 'categorical_crossentropy',\n",
        "    optimizer = 'adam',\n",
        "    metrics = ['accuracy']\n",
        ")"
      ],
      "execution_count": 8,
      "outputs": []
    },
    {
      "cell_type": "code",
      "metadata": {
        "id": "BHz8uM8Qw9xV",
        "colab": {
          "base_uri": "https://localhost:8080/"
        },
        "outputId": "6898007d-86f5-4af0-eb2b-0bbd52a02c49"
      },
      "source": [
        "num_epochs = 30\n",
        "history = model.fit(\n",
        "    padded_latih,\n",
        "    label_latih,\n",
        "    epochs = num_epochs,\n",
        "    validation_data = (padded_test, label_test),\n",
        "    verbose = 2\n",
        ")"
      ],
      "execution_count": 9,
      "outputs": [
        {
          "output_type": "stream",
          "name": "stdout",
          "text": [
            "Epoch 1/30\n",
            "26/26 - 31s - loss: 1.6115 - accuracy: 0.2040 - val_loss: 1.6151 - val_accuracy: 0.1741\n",
            "Epoch 2/30\n",
            "26/26 - 28s - loss: 1.6024 - accuracy: 0.2363 - val_loss: 1.6186 - val_accuracy: 0.1642\n",
            "Epoch 3/30\n",
            "26/26 - 28s - loss: 1.5224 - accuracy: 0.3358 - val_loss: 1.6379 - val_accuracy: 0.1692\n",
            "Epoch 4/30\n",
            "26/26 - 28s - loss: 1.2146 - accuracy: 0.4042 - val_loss: 1.8831 - val_accuracy: 0.2090\n",
            "Epoch 5/30\n",
            "26/26 - 28s - loss: 0.9398 - accuracy: 0.5323 - val_loss: 2.3432 - val_accuracy: 0.2438\n",
            "Epoch 6/30\n",
            "26/26 - 28s - loss: 0.7657 - accuracy: 0.5771 - val_loss: 2.7678 - val_accuracy: 0.2786\n",
            "Epoch 7/30\n",
            "26/26 - 28s - loss: 0.6256 - accuracy: 0.6928 - val_loss: 3.2899 - val_accuracy: 0.2488\n",
            "Epoch 8/30\n",
            "26/26 - 29s - loss: 0.5998 - accuracy: 0.7488 - val_loss: 2.8918 - val_accuracy: 0.2587\n",
            "Epoch 9/30\n",
            "26/26 - 28s - loss: 0.4642 - accuracy: 0.8607 - val_loss: 3.4742 - val_accuracy: 0.2736\n",
            "Epoch 10/30\n",
            "26/26 - 29s - loss: 0.2620 - accuracy: 0.9216 - val_loss: 4.5621 - val_accuracy: 0.2736\n",
            "Epoch 11/30\n",
            "26/26 - 29s - loss: 0.1707 - accuracy: 0.9465 - val_loss: 4.0785 - val_accuracy: 0.2786\n",
            "Epoch 12/30\n",
            "26/26 - 29s - loss: 0.1194 - accuracy: 0.9714 - val_loss: 4.7439 - val_accuracy: 0.2687\n",
            "Epoch 13/30\n",
            "26/26 - 28s - loss: 0.0550 - accuracy: 0.9863 - val_loss: 5.0083 - val_accuracy: 0.2687\n",
            "Epoch 14/30\n",
            "26/26 - 29s - loss: 0.0308 - accuracy: 0.9950 - val_loss: 4.9246 - val_accuracy: 0.2935\n",
            "Epoch 15/30\n",
            "26/26 - 28s - loss: 0.0193 - accuracy: 0.9975 - val_loss: 5.2478 - val_accuracy: 0.2985\n",
            "Epoch 16/30\n",
            "26/26 - 29s - loss: 0.0126 - accuracy: 0.9975 - val_loss: 5.3919 - val_accuracy: 0.3035\n",
            "Epoch 17/30\n",
            "26/26 - 28s - loss: 0.0120 - accuracy: 0.9988 - val_loss: 5.5776 - val_accuracy: 0.2985\n",
            "Epoch 18/30\n",
            "26/26 - 28s - loss: 0.0073 - accuracy: 0.9988 - val_loss: 5.6915 - val_accuracy: 0.2736\n",
            "Epoch 19/30\n",
            "26/26 - 28s - loss: 0.0112 - accuracy: 0.9975 - val_loss: 5.5435 - val_accuracy: 0.2935\n",
            "Epoch 20/30\n",
            "26/26 - 28s - loss: 0.0083 - accuracy: 0.9988 - val_loss: 5.6650 - val_accuracy: 0.3234\n",
            "Epoch 21/30\n",
            "26/26 - 28s - loss: 0.0067 - accuracy: 0.9975 - val_loss: 5.6659 - val_accuracy: 0.3284\n",
            "Epoch 22/30\n",
            "26/26 - 28s - loss: 0.0039 - accuracy: 0.9988 - val_loss: 5.8676 - val_accuracy: 0.2985\n",
            "Epoch 23/30\n",
            "26/26 - 28s - loss: 0.0049 - accuracy: 0.9988 - val_loss: 5.8943 - val_accuracy: 0.3284\n",
            "Epoch 24/30\n",
            "26/26 - 28s - loss: 0.0075 - accuracy: 0.9988 - val_loss: 5.9350 - val_accuracy: 0.2886\n",
            "Epoch 25/30\n",
            "26/26 - 28s - loss: 0.0068 - accuracy: 0.9988 - val_loss: 5.7393 - val_accuracy: 0.3234\n",
            "Epoch 26/30\n",
            "26/26 - 28s - loss: 0.0061 - accuracy: 0.9975 - val_loss: 5.7279 - val_accuracy: 0.3035\n",
            "Epoch 27/30\n",
            "26/26 - 28s - loss: 0.0043 - accuracy: 0.9988 - val_loss: 5.8883 - val_accuracy: 0.3085\n",
            "Epoch 28/30\n",
            "26/26 - 28s - loss: 0.0051 - accuracy: 0.9988 - val_loss: 5.7684 - val_accuracy: 0.3284\n",
            "Epoch 29/30\n",
            "26/26 - 28s - loss: 0.0043 - accuracy: 0.9975 - val_loss: 5.8481 - val_accuracy: 0.3134\n",
            "Epoch 30/30\n",
            "26/26 - 28s - loss: 0.0032 - accuracy: 0.9988 - val_loss: 6.0222 - val_accuracy: 0.3035\n"
          ]
        }
      ]
    },
    {
      "cell_type": "code",
      "metadata": {
        "id": "1rRj1QXGQrRR"
      },
      "source": [
        ""
      ],
      "execution_count": 9,
      "outputs": []
    }
  ]
}