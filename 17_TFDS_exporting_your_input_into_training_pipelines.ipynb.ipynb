{
  "nbformat": 4,
  "nbformat_minor": 0,
  "metadata": {
    "colab": {
      "name": "17_TFDS_exporting_your_input_into_training_pipelines.ipynb.ipynb",
      "provenance": [],
      "collapsed_sections": []
    },
    "kernelspec": {
      "name": "python3",
      "display_name": "Python 3"
    }
  },
  "cells": [
    {
      "cell_type": "markdown",
      "metadata": {
        "id": "view-in-github"
      },
      "source": [
        "<a href=\"https://colab.research.google.com/github/nurimammasri/Dicoding-Belajar-Pengembangan-Machine-Learning/blob/main/17_TFDS_exporting_your_input_into_training_pipelines.ipynb.ipynb\" target=\"_parent\"><img src=\"https://colab.research.google.com/assets/colab-badge.svg\" alt=\"Open In Colab\"/></a>"
      ]
    },
    {
      "cell_type": "code",
      "metadata": {
        "id": "bprv7fhx5aVV"
      },
      "source": [
        "import pandas as pd\n",
        "import numpy as np\n",
        "\n",
        "\n",
        "import tensorflow as tf\n",
        "\n",
        "from tensorflow import feature_column\n",
        "from tensorflow.keras import layers\n",
        "from sklearn.model_selection import train_test_split"
      ],
      "execution_count": 5,
      "outputs": []
    },
    {
      "cell_type": "code",
      "metadata": {
        "id": "UmwaNzajyFQ5"
      },
      "source": [
        "import logging\n",
        "logging.getLogger('tensorflow').disabled = True\n"
      ],
      "execution_count": 6,
      "outputs": []
    },
    {
      "cell_type": "code",
      "metadata": {
        "id": "3ZNzsU-i5UPz"
      },
      "source": [
        "# url = 'https://raw.githubusercontent.com/natashayulian/diamond_dataset/master/diamonds.csv'\n",
        "url = 'https://github.com/nurimammasri/Dicoding-Belajar-Pengembangan-Machine-Learning/raw/main/data/diamonds.csv'\n",
        "df = pd.read_csv(url)"
      ],
      "execution_count": 7,
      "outputs": []
    },
    {
      "cell_type": "code",
      "metadata": {
        "id": "DNGtun-t5t1w",
        "colab": {
          "base_uri": "https://localhost:8080/",
          "height": 203
        },
        "outputId": "b5aaf4ca-e6c5-4103-8ea6-ccf2326c54b1"
      },
      "source": [
        "df.head()"
      ],
      "execution_count": 8,
      "outputs": [
        {
          "output_type": "execute_result",
          "data": {
            "text/html": [
              "<div>\n",
              "<style scoped>\n",
              "    .dataframe tbody tr th:only-of-type {\n",
              "        vertical-align: middle;\n",
              "    }\n",
              "\n",
              "    .dataframe tbody tr th {\n",
              "        vertical-align: top;\n",
              "    }\n",
              "\n",
              "    .dataframe thead th {\n",
              "        text-align: right;\n",
              "    }\n",
              "</style>\n",
              "<table border=\"1\" class=\"dataframe\">\n",
              "  <thead>\n",
              "    <tr style=\"text-align: right;\">\n",
              "      <th></th>\n",
              "      <th>Unnamed: 0</th>\n",
              "      <th>carat</th>\n",
              "      <th>cut</th>\n",
              "      <th>color</th>\n",
              "      <th>clarity</th>\n",
              "      <th>depth</th>\n",
              "      <th>table</th>\n",
              "      <th>price</th>\n",
              "      <th>x</th>\n",
              "      <th>y</th>\n",
              "      <th>z</th>\n",
              "    </tr>\n",
              "  </thead>\n",
              "  <tbody>\n",
              "    <tr>\n",
              "      <th>0</th>\n",
              "      <td>1</td>\n",
              "      <td>0.23</td>\n",
              "      <td>Ideal</td>\n",
              "      <td>E</td>\n",
              "      <td>SI2</td>\n",
              "      <td>61.5</td>\n",
              "      <td>55.0</td>\n",
              "      <td>326</td>\n",
              "      <td>3.95</td>\n",
              "      <td>3.98</td>\n",
              "      <td>2.43</td>\n",
              "    </tr>\n",
              "    <tr>\n",
              "      <th>1</th>\n",
              "      <td>2</td>\n",
              "      <td>0.21</td>\n",
              "      <td>Premium</td>\n",
              "      <td>E</td>\n",
              "      <td>SI1</td>\n",
              "      <td>59.8</td>\n",
              "      <td>61.0</td>\n",
              "      <td>326</td>\n",
              "      <td>3.89</td>\n",
              "      <td>3.84</td>\n",
              "      <td>2.31</td>\n",
              "    </tr>\n",
              "    <tr>\n",
              "      <th>2</th>\n",
              "      <td>3</td>\n",
              "      <td>0.23</td>\n",
              "      <td>Good</td>\n",
              "      <td>E</td>\n",
              "      <td>VS1</td>\n",
              "      <td>56.9</td>\n",
              "      <td>65.0</td>\n",
              "      <td>327</td>\n",
              "      <td>4.05</td>\n",
              "      <td>4.07</td>\n",
              "      <td>2.31</td>\n",
              "    </tr>\n",
              "    <tr>\n",
              "      <th>3</th>\n",
              "      <td>4</td>\n",
              "      <td>0.29</td>\n",
              "      <td>Premium</td>\n",
              "      <td>I</td>\n",
              "      <td>VS2</td>\n",
              "      <td>62.4</td>\n",
              "      <td>58.0</td>\n",
              "      <td>334</td>\n",
              "      <td>4.20</td>\n",
              "      <td>4.23</td>\n",
              "      <td>2.63</td>\n",
              "    </tr>\n",
              "    <tr>\n",
              "      <th>4</th>\n",
              "      <td>5</td>\n",
              "      <td>0.31</td>\n",
              "      <td>Good</td>\n",
              "      <td>J</td>\n",
              "      <td>SI2</td>\n",
              "      <td>63.3</td>\n",
              "      <td>58.0</td>\n",
              "      <td>335</td>\n",
              "      <td>4.34</td>\n",
              "      <td>4.35</td>\n",
              "      <td>2.75</td>\n",
              "    </tr>\n",
              "  </tbody>\n",
              "</table>\n",
              "</div>"
            ],
            "text/plain": [
              "   Unnamed: 0  carat      cut color clarity  ...  table  price     x     y     z\n",
              "0           1   0.23    Ideal     E     SI2  ...   55.0    326  3.95  3.98  2.43\n",
              "1           2   0.21  Premium     E     SI1  ...   61.0    326  3.89  3.84  2.31\n",
              "2           3   0.23     Good     E     VS1  ...   65.0    327  4.05  4.07  2.31\n",
              "3           4   0.29  Premium     I     VS2  ...   58.0    334  4.20  4.23  2.63\n",
              "4           5   0.31     Good     J     SI2  ...   58.0    335  4.34  4.35  2.75\n",
              "\n",
              "[5 rows x 11 columns]"
            ]
          },
          "metadata": {},
          "execution_count": 8
        }
      ]
    },
    {
      "cell_type": "markdown",
      "metadata": {
        "id": "m1HuE8ZE8oPJ"
      },
      "source": [
        "### Split Dataset menjadi train, test, dan validation"
      ]
    },
    {
      "cell_type": "code",
      "metadata": {
        "id": "6hCSdgAh8wro",
        "colab": {
          "base_uri": "https://localhost:8080/"
        },
        "outputId": "52b0cdfc-0b21-4f03-9918-b8b1391e119a"
      },
      "source": [
        "train, test = train_test_split(df, test_size=0.2)\n",
        "train, val = train_test_split(train, test_size=0.2)\n",
        "print(len(train), 'train examples')\n",
        "print(len(val), 'validation examples')\n",
        "print(len(test), 'test examples')"
      ],
      "execution_count": 9,
      "outputs": [
        {
          "output_type": "stream",
          "name": "stdout",
          "text": [
            "34521 train examples\n",
            "8631 validation examples\n",
            "10788 test examples\n"
          ]
        }
      ]
    },
    {
      "cell_type": "code",
      "metadata": {
        "id": "22M1th5YbI1M"
      },
      "source": [
        "#Membuat target dari prediksi model\n",
        "# price 0 = low; 1 = high\n",
        "df['target'] = np.where(df['price']==327, 0, 1)\n",
        "\n",
        "# Drop un-used columns.\n",
        "df = df.drop(columns=['price'])"
      ],
      "execution_count": 10,
      "outputs": []
    },
    {
      "cell_type": "markdown",
      "metadata": {
        "id": "GBRnk4XR86zr"
      },
      "source": [
        "### Create input pipeline using tf data"
      ]
    },
    {
      "cell_type": "code",
      "metadata": {
        "id": "6msvDk3X889r"
      },
      "source": [
        "# Cara untuk membuat dataset tf.data dari pandas dataframe\n",
        "def df_to_dataset(dataframe, shuffle=True, batch_size=32):\n",
        "  dataframe = df.copy()\n",
        "  labels = dataframe.pop('target')\n",
        "  ds = tf.data.Dataset.from_tensor_slices((dict(dataframe), labels))\n",
        "  if shuffle:\n",
        "    ds = ds.shuffle(buffer_size=len(dataframe))\n",
        "  ds = ds.batch(batch_size)\n",
        "  return ds"
      ],
      "execution_count": 11,
      "outputs": []
    },
    {
      "cell_type": "code",
      "metadata": {
        "id": "4qYBi5l_9DBj"
      },
      "source": [
        "batch_size = 10 #bath ukuran kecil untuk demonstrasi\n",
        "train_ds = df_to_dataset(train, batch_size=batch_size)\n",
        "val_ds = df_to_dataset(val, shuffle=False, batch_size=batch_size)\n",
        "test_ds = df_to_dataset(test, shuffle=False, batch_size=batch_size)"
      ],
      "execution_count": 12,
      "outputs": []
    },
    {
      "cell_type": "code",
      "metadata": {
        "id": "N4XBJ9DUobGO",
        "colab": {
          "base_uri": "https://localhost:8080/"
        },
        "outputId": "a54ffc33-b2e1-4ecf-bd42-d718744b5a88"
      },
      "source": [
        "for feature_batch, label_batch in train_ds.take(1):\n",
        "  print('Every feature:', list(feature_batch.keys()))\n",
        "  print('A batch of carat:', feature_batch['carat'])\n",
        "  print('A batch of targets:', label_batch )"
      ],
      "execution_count": 13,
      "outputs": [
        {
          "output_type": "stream",
          "name": "stdout",
          "text": [
            "Every feature: ['Unnamed: 0', 'carat', 'cut', 'color', 'clarity', 'depth', 'table', 'x', 'y', 'z']\n",
            "A batch of carat: tf.Tensor([0.38 1.22 0.31 0.73 0.87 0.9  0.46 0.3  0.3  0.42], shape=(10,), dtype=float64)\n",
            "A batch of targets: tf.Tensor([1 1 1 1 1 1 1 1 1 1], shape=(10,), dtype=int64)\n"
          ]
        }
      ]
    },
    {
      "cell_type": "code",
      "metadata": {
        "id": "0EAIizOLo_9E"
      },
      "source": [
        "# We will use this batch to demonstrate several types of feature columns\n",
        "example_batch = next(iter(train_ds))[0]\n",
        "\n",
        "# A utility method to create a feature column\n",
        "# and to transform a batch of data\n",
        "def demo(feature_column):\n",
        "  feature_layer = layers.DenseFeatures(feature_column)\n",
        "  print(feature_layer(example_batch).numpy())\n"
      ],
      "execution_count": 14,
      "outputs": []
    },
    {
      "cell_type": "code",
      "metadata": {
        "id": "ILhCxgefqbLv",
        "colab": {
          "base_uri": "https://localhost:8080/"
        },
        "outputId": "b8132a44-10f0-496f-a2cf-607fef57e6c4"
      },
      "source": [
        "#numeric column\n",
        "carat = feature_column.numeric_column('carat')\n",
        "demo(carat)"
      ],
      "execution_count": 15,
      "outputs": [
        {
          "output_type": "stream",
          "name": "stdout",
          "text": [
            "[[0.73]\n",
            " [0.27]\n",
            " [0.6 ]\n",
            " [0.7 ]\n",
            " [2.01]\n",
            " [1.2 ]\n",
            " [1.04]\n",
            " [1.01]\n",
            " [1.01]\n",
            " [1.43]]\n"
          ]
        }
      ]
    },
    {
      "cell_type": "code",
      "metadata": {
        "id": "eXzhUvztqybV",
        "colab": {
          "base_uri": "https://localhost:8080/"
        },
        "outputId": "b1b4994f-b933-4afb-9d25-6d8bdea59770"
      },
      "source": [
        "#bucketized column \n",
        "carat = feature_column.numeric_column('carat')\n",
        "carat_buckets = feature_column.bucketized_column(carat, boundaries=[1, 2])\n",
        "demo(carat_buckets)"
      ],
      "execution_count": 16,
      "outputs": [
        {
          "output_type": "stream",
          "name": "stdout",
          "text": [
            "[[1. 0. 0.]\n",
            " [1. 0. 0.]\n",
            " [1. 0. 0.]\n",
            " [1. 0. 0.]\n",
            " [0. 0. 1.]\n",
            " [0. 1. 0.]\n",
            " [0. 1. 0.]\n",
            " [0. 1. 0.]\n",
            " [0. 1. 0.]\n",
            " [0. 1. 0.]]\n"
          ]
        }
      ]
    },
    {
      "cell_type": "code",
      "metadata": {
        "id": "enyOlEQFrjV_",
        "colab": {
          "base_uri": "https://localhost:8080/"
        },
        "outputId": "7f682803-7001-4f2f-b04e-0100bde2603d"
      },
      "source": [
        "#categorical\n",
        "color_type = feature_column.categorical_column_with_vocabulary_list(\n",
        "      'color', ['E', 'I','J','D','H', 'G','F'])\n",
        "\n",
        "color_type_one_hot = feature_column.indicator_column(color_type)\n",
        "demo(color_type_one_hot)\n"
      ],
      "execution_count": 17,
      "outputs": [
        {
          "output_type": "stream",
          "name": "stdout",
          "text": [
            "[[0. 0. 0. 0. 0. 0. 1.]\n",
            " [0. 0. 0. 0. 0. 0. 1.]\n",
            " [1. 0. 0. 0. 0. 0. 0.]\n",
            " [0. 0. 0. 1. 0. 0. 0.]\n",
            " [0. 1. 0. 0. 0. 0. 0.]\n",
            " [0. 1. 0. 0. 0. 0. 0.]\n",
            " [0. 0. 0. 0. 1. 0. 0.]\n",
            " [0. 0. 0. 0. 0. 0. 1.]\n",
            " [0. 0. 0. 0. 0. 0. 1.]\n",
            " [0. 0. 1. 0. 0. 0. 0.]]\n"
          ]
        }
      ]
    },
    {
      "cell_type": "code",
      "metadata": {
        "id": "BwFnXYAqyuTE",
        "colab": {
          "base_uri": "https://localhost:8080/"
        },
        "outputId": "05ef590d-a952-4985-b720-1e20ed4c5f85"
      },
      "source": [
        "#embedding\n",
        "clarity = feature_column.categorical_column_with_vocabulary_list(\n",
        "      'clarity', df.clarity.unique())\n",
        "clarity_embedding = feature_column.embedding_column(clarity, dimension=6)\n",
        "demo(clarity_embedding)"
      ],
      "execution_count": 18,
      "outputs": [
        {
          "output_type": "stream",
          "name": "stdout",
          "text": [
            "[[ 0.17688434 -0.15628633 -0.04890993 -0.25763416  0.00214265 -0.30630141]\n",
            " [-0.36397153 -0.6798694   0.00111301  0.74484193  0.05711588  0.16786902]\n",
            " [ 0.17688434 -0.15628633 -0.04890993 -0.25763416  0.00214265 -0.30630141]\n",
            " [ 0.48159948 -0.2983528   0.19063549  0.18840143 -0.08657558  0.61336285]\n",
            " [ 0.17688434 -0.15628633 -0.04890993 -0.25763416  0.00214265 -0.30630141]\n",
            " [ 0.48159948 -0.2983528   0.19063549  0.18840143 -0.08657558  0.61336285]\n",
            " [ 0.48159948 -0.2983528   0.19063549  0.18840143 -0.08657558  0.61336285]\n",
            " [-0.5885631   0.10973608  0.17276712  0.03654357  0.4771163  -0.11643896]\n",
            " [-0.36397153 -0.6798694   0.00111301  0.74484193  0.05711588  0.16786902]\n",
            " [ 0.48159948 -0.2983528   0.19063549  0.18840143 -0.08657558  0.61336285]]\n"
          ]
        }
      ]
    },
    {
      "cell_type": "code",
      "metadata": {
        "id": "I0JUGwC47SEX",
        "colab": {
          "base_uri": "https://localhost:8080/"
        },
        "outputId": "70b322f4-3d1d-49d2-8582-c8f426f3cbfc"
      },
      "source": [
        "#hashed feature\n",
        "clarity_hashed = feature_column.categorical_column_with_hash_bucket(\n",
        "      'clarity', hash_bucket_size=5)\n",
        "demo(feature_column.indicator_column(clarity_hashed))"
      ],
      "execution_count": 19,
      "outputs": [
        {
          "output_type": "stream",
          "name": "stdout",
          "text": [
            "[[0. 0. 0. 1. 0.]\n",
            " [1. 0. 0. 0. 0.]\n",
            " [0. 0. 0. 1. 0.]\n",
            " [0. 0. 0. 1. 0.]\n",
            " [0. 0. 0. 1. 0.]\n",
            " [0. 0. 0. 1. 0.]\n",
            " [0. 0. 0. 1. 0.]\n",
            " [0. 0. 0. 0. 1.]\n",
            " [1. 0. 0. 0. 0.]\n",
            " [0. 0. 0. 1. 0.]]\n"
          ]
        }
      ]
    },
    {
      "cell_type": "code",
      "metadata": {
        "id": "Xw--GtU_8C-H",
        "colab": {
          "base_uri": "https://localhost:8080/"
        },
        "outputId": "3ed3cb9b-f213-40b4-92ca-7291e403ece7"
      },
      "source": [
        "#cross feature\n",
        "#data yang di cross harus berupa string, categorical, atau bucketized\n",
        "crossed_feature = feature_column.crossed_column([carat_buckets, color_type],\n",
        "                                                hash_bucket_size=10)\n",
        "demo(feature_column.indicator_column(crossed_feature))"
      ],
      "execution_count": 20,
      "outputs": [
        {
          "output_type": "stream",
          "name": "stdout",
          "text": [
            "[[0. 0. 0. 0. 0. 0. 0. 0. 1. 0.]\n",
            " [0. 0. 0. 0. 0. 0. 0. 0. 1. 0.]\n",
            " [0. 0. 0. 0. 1. 0. 0. 0. 0. 0.]\n",
            " [0. 0. 1. 0. 0. 0. 0. 0. 0. 0.]\n",
            " [0. 0. 0. 0. 0. 0. 1. 0. 0. 0.]\n",
            " [0. 1. 0. 0. 0. 0. 0. 0. 0. 0.]\n",
            " [0. 0. 0. 0. 0. 1. 0. 0. 0. 0.]\n",
            " [0. 0. 1. 0. 0. 0. 0. 0. 0. 0.]\n",
            " [0. 0. 1. 0. 0. 0. 0. 0. 0. 0.]\n",
            " [0. 0. 0. 0. 0. 0. 0. 1. 0. 0.]]\n"
          ]
        }
      ]
    },
    {
      "cell_type": "code",
      "metadata": {
        "id": "oMNCwA2_9bX5"
      },
      "source": [
        "#Pilih feature column mana yang akan digunakan\n",
        "feature_columns = []"
      ],
      "execution_count": 21,
      "outputs": []
    },
    {
      "cell_type": "code",
      "metadata": {
        "id": "9LgduYn79mMC"
      },
      "source": [
        "#embedding column\n",
        "clarity = feature_column.categorical_column_with_vocabulary_list(\n",
        "      'clarity', df.clarity.unique())\n",
        "clarity_embedding = feature_column.embedding_column(clarity, dimension=8)\n",
        "feature_columns.append(clarity_embedding)"
      ],
      "execution_count": 22,
      "outputs": []
    },
    {
      "cell_type": "code",
      "metadata": {
        "id": "1A3fEU02_gLi"
      },
      "source": [
        "# numeric column\n",
        "for header in ['carat', 'depth', 'x', 'y', 'z']:\n",
        "  feature_columns.append(feature_column.numeric_column(header))"
      ],
      "execution_count": 23,
      "outputs": []
    },
    {
      "cell_type": "code",
      "metadata": {
        "id": "PfgoU9_q_pTR"
      },
      "source": [
        "#membuat feature layer\n",
        "feature_layer = tf.keras.layers.DenseFeatures(feature_columns)"
      ],
      "execution_count": 24,
      "outputs": []
    },
    {
      "cell_type": "code",
      "metadata": {
        "id": "iaC230bHAHjl"
      },
      "source": [
        "batch_size = 32\n",
        "train_ds = df_to_dataset(train, batch_size=batch_size)\n",
        "val_ds = df_to_dataset(val, shuffle=False, batch_size=batch_size)\n",
        "test_ds = df_to_dataset(test, shuffle=False, batch_size=batch_size)"
      ],
      "execution_count": 25,
      "outputs": []
    },
    {
      "cell_type": "code",
      "metadata": {
        "id": "NHvaEvtaAJI3",
        "colab": {
          "base_uri": "https://localhost:8080/"
        },
        "outputId": "8da04ae2-00e0-4cba-8fda-f86bad5bbbbf"
      },
      "source": [
        "#create, compile, and train the model\n",
        "model = tf.keras.Sequential([\n",
        "  feature_layer,\n",
        "  layers.Dense(128, activation='relu'),\n",
        "  layers.Dense(128, activation='relu'),\n",
        "  layers.Dropout(.1),\n",
        "  layers.Dense(1)\n",
        "])\n",
        "\n",
        "model.compile(optimizer='adam',\n",
        "              loss=tf.keras.losses.BinaryCrossentropy(from_logits=True),\n",
        "              metrics=['accuracy'])\n",
        "\n",
        "model.fit(train_ds,\n",
        "          validation_data=val_ds,\n",
        "          epochs=10)"
      ],
      "execution_count": 26,
      "outputs": [
        {
          "output_type": "stream",
          "name": "stdout",
          "text": [
            "Epoch 1/10\n",
            "1686/1686 [==============================] - 8s 4ms/step - loss: 8.7758e-04 - accuracy: 0.9996 - val_loss: 3.7346e-04 - val_accuracy: 1.0000\n",
            "Epoch 2/10\n",
            "1686/1686 [==============================] - 7s 4ms/step - loss: 4.5949e-04 - accuracy: 1.0000 - val_loss: 2.6118e-04 - val_accuracy: 1.0000\n",
            "Epoch 3/10\n",
            "1686/1686 [==============================] - 7s 4ms/step - loss: 2.3614e-04 - accuracy: 1.0000 - val_loss: 3.8523e-04 - val_accuracy: 1.0000\n",
            "Epoch 4/10\n",
            "1686/1686 [==============================] - 7s 4ms/step - loss: 3.2125e-04 - accuracy: 1.0000 - val_loss: 4.4121e-04 - val_accuracy: 1.0000\n",
            "Epoch 5/10\n",
            "1686/1686 [==============================] - 7s 4ms/step - loss: 2.8307e-04 - accuracy: 1.0000 - val_loss: 4.6570e-04 - val_accuracy: 1.0000\n",
            "Epoch 6/10\n",
            "1686/1686 [==============================] - 7s 4ms/step - loss: 5.4660e-04 - accuracy: 1.0000 - val_loss: 4.0285e-04 - val_accuracy: 1.0000\n",
            "Epoch 7/10\n",
            "1686/1686 [==============================] - 8s 4ms/step - loss: 4.6707e-04 - accuracy: 1.0000 - val_loss: 4.2462e-04 - val_accuracy: 1.0000\n",
            "Epoch 8/10\n",
            "1686/1686 [==============================] - 8s 4ms/step - loss: 4.2646e-04 - accuracy: 1.0000 - val_loss: 2.6337e-04 - val_accuracy: 1.0000\n",
            "Epoch 9/10\n",
            "1686/1686 [==============================] - 7s 4ms/step - loss: 3.5055e-04 - accuracy: 1.0000 - val_loss: 3.3876e-04 - val_accuracy: 1.0000\n",
            "Epoch 10/10\n",
            "1686/1686 [==============================] - 7s 4ms/step - loss: 3.5521e-04 - accuracy: 1.0000 - val_loss: 3.3508e-04 - val_accuracy: 1.0000\n"
          ]
        },
        {
          "output_type": "execute_result",
          "data": {
            "text/plain": [
              "<keras.callbacks.History at 0x7f4c5fa1cc90>"
            ]
          },
          "metadata": {},
          "execution_count": 26
        }
      ]
    },
    {
      "cell_type": "code",
      "metadata": {
        "id": "OJLGVhWof7PO"
      },
      "source": [
        ""
      ],
      "execution_count": 26,
      "outputs": []
    },
    {
      "cell_type": "code",
      "metadata": {
        "id": "6TqUqi-GAPKB",
        "colab": {
          "base_uri": "https://localhost:8080/"
        },
        "outputId": "ef9d52a2-fea0-4ed5-acea-99c8428a89dd"
      },
      "source": [
        "loss, accuracy = model.evaluate(test_ds)\n",
        "print(\"Accuracy\", accuracy)"
      ],
      "execution_count": 27,
      "outputs": [
        {
          "output_type": "stream",
          "name": "stdout",
          "text": [
            "1686/1686 [==============================] - 3s 2ms/step - loss: 3.3508e-04 - accuracy: 1.0000\n",
            "Accuracy 0.9999814629554749\n"
          ]
        }
      ]
    }
  ]
}