{
  "nbformat": 4,
  "nbformat_minor": 0,
  "metadata": {
    "colab": {
      "name": "18_Tensorboard.ipynb",
      "provenance": [],
      "collapsed_sections": []
    },
    "kernelspec": {
      "name": "python3",
      "display_name": "Python 3"
    }
  },
  "cells": [
    {
      "cell_type": "markdown",
      "metadata": {
        "id": "view-in-github"
      },
      "source": [
        "<a href=\"https://colab.research.google.com/github/nurimammasri/Dicoding-Belajar-Pengembangan-Machine-Learning/blob/main/18_Tensorboard.ipynb\" target=\"_parent\"><img src=\"https://colab.research.google.com/assets/colab-badge.svg\" alt=\"Open In Colab\"/></a>"
      ]
    },
    {
      "cell_type": "markdown",
      "metadata": {
        "id": "8qhXl6xZiW1C"
      },
      "source": [
        "# Tensorboard\n",
        "\n",
        "Command for using tensorboard. Kindly please check the lesson on Dicoding"
      ]
    },
    {
      "cell_type": "code",
      "metadata": {
        "id": "X3ReB4Op_2W8"
      },
      "source": [
        "# %load_ext tensorboard"
      ],
      "execution_count": 4,
      "outputs": []
    },
    {
      "cell_type": "code",
      "metadata": {
        "id": "wULxPQo9AJm1"
      },
      "source": [
        "# import datetime\n",
        "# log_dir = \"log/fit/\" + datetime.datetime.now().strftime(\"%Y%m%d-%H%M%S\")"
      ],
      "execution_count": 5,
      "outputs": []
    },
    {
      "cell_type": "code",
      "metadata": {
        "id": "ydv4UbmbAWty"
      },
      "source": [
        "# file_writer = tf.summary.FileWriter('/path/to/logs', sess.graph)"
      ],
      "execution_count": 6,
      "outputs": []
    },
    {
      "cell_type": "code",
      "metadata": {
        "id": "3hJ3FK6xBktu"
      },
      "source": [
        "# tensorboard_callback = tf.keras.callbacks.TensorBoard(\n",
        "#     log_dir = log_dir, historgram_freq = 1\n",
        "# )"
      ],
      "execution_count": 7,
      "outputs": []
    },
    {
      "cell_type": "code",
      "metadata": {
        "id": "lOHP68AVBwcS"
      },
      "source": [
        "# model.fit(x_train, y_train, epochs = 10,\n",
        "#           validation_data = (x_test, y_test),\n",
        "#           callbacks = [tensorboard_callback])"
      ],
      "execution_count": 8,
      "outputs": []
    },
    {
      "cell_type": "code",
      "metadata": {
        "id": "zvpjJLUlB9bs"
      },
      "source": [
        "# %tensorboard --logdir logs/fit"
      ],
      "execution_count": 9,
      "outputs": []
    },
    {
      "cell_type": "code",
      "metadata": {
        "id": "KbVXYiiof59o"
      },
      "source": [
        ""
      ],
      "execution_count": 9,
      "outputs": []
    }
  ]
}